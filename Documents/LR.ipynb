{
 "cells": [
  {
   "cell_type": "markdown",
   "metadata": {},
   "source": [
    "\n",
    "<h1>Data-driven prognostic method based on Bayesian approaches for direct remaining useful life (RUL)</h1> \n",
    "<p>A. Mosallam · K. Medjaher · N. Zerhouni \n",
    "\n",
    "  \n",
    "  \n",
    "<b>\n",
    " They used two phases data driven method for RUL prediction: \n",
    " \n",
    "1- Offline phase: The proposed method builds on finding variables that contain information about the degradation behavior using unsupervised variable selection method. \n",
    " \n",
    "\n",
    "2- Online phase: the method finds the most similar offline health indicator, to the online health indicator, using k-nearest neighbors (k-NN) classifier to use it as a RUL predictor. \n",
    "\n",
    "\n",
    "The method finally estimates the degradation state using discrete Bayesian filter. \n",
    "\n",
    "\n",
    "Dataset: they applied the offline and online phases to predict RUL on (charge and discharge) dataset. </b></p>\n",
    "<hr size=\"15\"></hr>\n",
    " "
   ]
  },
  {
   "cell_type": "markdown",
   "metadata": {},
   "source": [
    "<h1>Prognostics Methods for Battery Health Monitoring Using a Bayesian Framework </h1>\n",
    "\n",
    "Bhaskar Saha, Member, IEEE, Kai Goebel, Scott Poll, and Jon Christophersen \n",
    "\n",
    " \n",
    "<p><b>\n",
    "In this paper, Relevance vector machines (RVMs) and several different particle filters (PFs) are examined for remaining life prediction and for providing uncertainty bounds. Results are shown on battery data. By using a Bayesian learning (RVM–PF) framework to encapsulate the randomness of RUL and improve its prediction with increasing information (measurements). \n",
    "\n",
    "<li><ou>Impedance dataset was used, Re and Rct and Capacity were used to calculate SoC, SoH and EoL.</ou></li> </b></p>\n",
    "\n",
    " <hr size=\"15\"></hr>\n",
    "\n",
    " "
   ]
  },
  {
   "cell_type": "markdown",
   "metadata": {},
   "source": [
    "<h1>A Data-Driven Predictive Prognostic Model for Lithium-ion Batteries based on a Deep Learning Algorithm </h1>\n",
    "\n",
    "Phattara Khumprom and Nita Yodo \n",
    "\n",
    "https://www.mdpi.com/1996-1073/12/4/660/htm#B3-energies-12-00660 \n",
    "\n",
    "<p><b>\n",
    "This paper presents the preliminary development of the data-driven prognostic, using a Deep Neural Networks (DNN) approach to predict the SoH and the RUL of the lithium-ion battery. They compared their proposed with different machine learning (ML), namely, SVM, K-NN, ANN, LR. \n",
    "The experimental result shows that DNN get better result or outperformed compared with other ML the are proposed.</b></p> \n",
    "<hr size=\"15\"></hr>"
   ]
  },
  {
   "cell_type": "markdown",
   "metadata": {},
   "source": [
    "<h1>Dynamic Long Short-Term Memory Neural-Network- Based Indirect Remaining-Useful-Life Prognosis for Satellite Lithium-Ion Battery </h1>\n",
    "\n",
    "Cunsong Wang ,Ningyun Lu  ,Senlin Wang ,Yuehua Cheng  andBin Jiang  \n",
    "<p><b>\n",
    "This paper they proposed a dynamic long short-term memory (DLSTM) neural-network-based indirect RUL prognosis. \n",
    "\n",
    "The contribution of this proposal was: \n",
    "\n",
    "1- measured discharge voltages, a novel polynomial-fitting-based HI is constructed to replace Li-ion capacity for Li-ion battery RUL prognosis. \n",
    "\n",
    "2- Considering on-line and multi-step prediction, a DLSTM with the Adam method, L2 regularization method, and incremental learning idea was proposed.</b></p>\n",
    "<hr size=\"15\"></hr>"
   ]
  },
  {
   "cell_type": "markdown",
   "metadata": {},
   "source": [
    "<h1>A novel multistage Support Vector Machine based approach for Li ion battery remaining useful life estimation </h1>\n",
    "\n",
    "Meru A. Patil, Piyush Tagade, Krishnan S. Hariharan, Subramanya M. Kolake, Taewon Song, Taejung Yeo, Seokgwang Doo \n",
    "<p><b>\n",
    "In this paper a novel method for real-time RUL estimation of Li ion batteries is proposed that integrates classification and regression attributes of Support Vector (SV) based machine learning technique.  \n",
    "\n",
    "The contribution of this works was to design an efficient two-stage RUL estimation system that can predict the remaining life of a battery at any stage of its life, this work done by using SVM in both stages. \n",
    "\n",
    "Stage one: Classification model \n",
    "\n",
    "For each battery, total number of discharge cycles are counted till it reaches EOL and each discharge cycle is classified into four categories, namely class A, B, C and D. \n",
    "\n",
    "Stage two: Regression mode: \n",
    "\n",
    "The regression model is used for accurate RUL estimation of the battery data classified as ‘‘class D''.\n",
    "<hr size=\"15\"></hr>"
   ]
  },
  {
   "cell_type": "markdown",
   "metadata": {},
   "source": [
    "<h1>Data-driven Prognostics for Lithium-ion Battery Based on Gaussian Process Regression</h1>  \n",
    "\n",
    "Datong Liu, Jingyue Pang, Jianbao Zhou, Yu Peng  \n",
    "\n",
    "<p><b>\n",
    "\n",
    "This paper presents the Gaussian process model to realize the prognostics for battery health.  \n",
    "\n",
    "The contribution was to propose a new combination of covariance function for GPR to make prognostics about battery health and estimate the state of health about the battery. \n",
    "\n",
    "Based on GPR algorithm the experimental results prove its effectiveness and confirm the algorithm can be effectively applied to the battery monitoring and prognostics.  \n",
    "\n",
    "The applied GPR only one battery B0005, so the GPR did not provide better results with less learning data. So, they present a dynamic data model to update the training inputs while the new data are available online to achieve more accurate prediction results.</b></p>\n",
    "<hr size=\"15\"></hr>"
   ]
  },
  {
   "cell_type": "markdown",
   "metadata": {},
   "source": [
    "<h1>Dynamic Battery Remaining Useful Life Estimation: An On-line Data-driven Approach \n",
    "</h1>\n",
    "Jianbao Zhou, Datong Liu, Yu Peng, Xiyuan Peng  \n",
    "<p><b>\n",
    "This paper proposed an online data driven battery RUL prediction approach based on Online Support Vector Regression (Online SVR). \n",
    "\n",
    "For estimation RUL: A data-driven battery RUL prediction strategy combined the offline historical models and on-line dynamic model realizes more precisely prediction result.  \n",
    "\n",
    "Experimental results with the NASA battery data show that the proposed method can effectively predict the RUL of lithium battery. </b></p> \n",
    "<hr size=\"15\"></hr>"
   ]
  },
  {
   "cell_type": "markdown",
   "metadata": {},
   "source": [
    "<h1>Adaptation of an Electrochemistry-based Li-Ion Battery Model to Account for Deterioration Observed Under Randomized Use </h1>\n",
    "\n",
    "Brian Bole, Chetan S. Kulkarni, Matthew Daigle \n",
    "<p><b>\n",
    "This paper presents the online adaptation of battery models and proposed a novel method for the adaptation of parameters in an electrochemical model of a lithium-ion battery. And applied unscented Kalman filtering algorithm to enable the production of internal battery state estimates and age-dependent electrochemical model parameter estimates. The data was collected over randomized discharge profiles. This work used only discharge cycles to judge battery health. \n",
    "\n",
    "The experimental results presented compare online model estimates produced by unscented Kalman filtering algorithm to offline model estimates obtained by periodically taking batteries offline to run reference discharge cycles. </b></p>\n",
    "\n",
    "<hr size=\"15\"></hr>\n"
   ]
  },
  {
   "cell_type": "markdown",
   "metadata": {},
   "source": [
    "<h1>Lithium-ion Battery Remaining Useful Life Estimation Based on Nonlinear AR Model Combined with Degradation Feature</h1> \n",
    "\n",
    "Datong Liu, Yue Luo, Yu Peng, Xiyuan Peng, Michael Pecht5 \n",
    "<p><p>\n",
    "the paper proposed an improved AR time series model called model Nonlinear Degradation Auto-Regression (ND-AR) for Remaining Useful Life (RUL) estimation of lithium-ion batteries. \n",
    "\n",
    "The nonlinear degradation to analyze feature of the lithium-ion battery capacity degradation and then the non-linear accelerated degradation factor is extracted to improve the linear AR model. \n",
    "\n",
    "Experimental results with the battery data set (from the CALCE of University of Maryland) show that the proposed nonlinear degradation AR model can realize satisfied prognostic for various lithium-ion batteries with low computing complexity. </b></p>"
   ]
  },
  {
   "cell_type": "markdown",
   "metadata": {},
   "source": []
  }
 ],
 "metadata": {
  "kernelspec": {
   "display_name": "Python 3",
   "language": "python",
   "name": "python3"
  },
  "language_info": {
   "codemirror_mode": {
    "name": "ipython",
    "version": 3
   },
   "file_extension": ".py",
   "mimetype": "text/x-python",
   "name": "python",
   "nbconvert_exporter": "python",
   "pygments_lexer": "ipython3",
   "version": "3.7.1"
  }
 },
 "nbformat": 4,
 "nbformat_minor": 2
}
