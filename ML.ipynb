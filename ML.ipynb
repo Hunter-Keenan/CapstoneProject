{
 "cells": [
  {
   "cell_type": "code",
   "execution_count": 1,
   "metadata": {},
   "outputs": [],
   "source": [
    "import pandas as pd\n",
    "import numpy as np\n",
    "\n",
    "\n",
    "import matplotlib.pyplot as plt\n",
    "plt.style.use('ggplot')\n",
    "%matplotlib inline  \n",
    "\n",
    "from sklearn import linear_model\n",
    "from sklearn.ensemble import RandomForestRegressor\n",
    "\n",
    "from sklearn import model_selection #import cross_val_score, StratifiedKFold\n",
    "from sklearn.tree import DecisionTreeRegressor, DecisionTreeClassifier, export_graphviz\n",
    "from sklearn import metrics  # mean_squared_error, mean_absolute_error, median_absolute_error, explained_variance_score, r2_score\n",
    "from sklearn.feature_selection import SelectFromModel, RFECV"
   ]
  },
  {
   "cell_type": "code",
   "execution_count": 2,
   "metadata": {},
   "outputs": [],
   "source": [
    "featurs=['Batt_name','cycle','voltage_battery','current_battery','temp_battery','current_load','voltage_load','time','Capacity']"
   ]
  },
  {
   "cell_type": "code",
   "execution_count": 3,
   "metadata": {},
   "outputs": [],
   "source": [
    "test = pd.read_csv('discharge_onerow.csv')"
   ]
  },
  {
   "cell_type": "code",
   "execution_count": 4,
   "metadata": {},
   "outputs": [
    {
     "name": "stdout",
     "output_type": "stream",
     "text": [
      "  Batt_name  cycle  voltage_battery  current_battery  temp_battery  \\\n",
      "0     B0052      1         3.591996         0.000300     12.846963   \n",
      "1     B0052      2         3.719151         0.000111      7.537816   \n",
      "2     B0052      3         3.731411         0.000272      7.620107   \n",
      "3     B0052      4         3.732101         0.000626      8.566306   \n",
      "4     B0052      5         0.240892        -0.000988      5.106906   \n",
      "\n",
      "   current_load  voltage_load      time  Capacity  \n",
      "0        0.0002           0.0  1713.235  0.860659  \n",
      "1        0.0004           0.0  3170.984  1.418310  \n",
      "2        0.0004           0.0  3135.344  1.370712  \n",
      "3        0.0004           0.0  3049.781  1.351565  \n",
      "4        0.0002           0.0  4565.859       NaN  \n"
     ]
    }
   ],
   "source": [
    "test=test[featurs]\n",
    "print(test.head())"
   ]
  },
  {
   "cell_type": "code",
   "execution_count": 5,
   "metadata": {},
   "outputs": [],
   "source": [
    "X_train = test[(test.Batt_name =='B0005')| (test.Batt_name =='B0006') | (test.Batt_name =='B0007')|(test.Batt_name =='B0025')|(test.Batt_name =='B0026')|(test.Batt_name =='B0027')|(test.Batt_name =='B0028')]\n",
    "#"
   ]
  },
  {
   "cell_type": "code",
   "execution_count": 6,
   "metadata": {},
   "outputs": [
    {
     "name": "stdout",
     "output_type": "stream",
     "text": [
      "    Batt_name  cycle  voltage_battery  current_battery  temp_battery  \\\n",
      "100     B0028      1         2.615140        -1.994524     31.679728   \n",
      "101     B0028      2         2.578716        -1.993679     31.425552   \n",
      "102     B0028      3         2.679891        -1.992190     31.685802   \n",
      "103     B0028      4         2.674601        -1.992421     31.837533   \n",
      "104     B0028      5         2.655984        -1.991371     31.891977   \n",
      "\n",
      "     current_load  voltage_load      time  Capacity  \n",
      "100        1.9992         1.585  6515.422  1.804685  \n",
      "101        1.9992         1.551  6516.219  1.804783  \n",
      "102        1.9992         1.645  6489.500  1.797619  \n",
      "103        1.9992         1.633  6471.250  1.792991  \n",
      "104        1.9992         1.619  6466.672  1.791918  \n"
     ]
    }
   ],
   "source": [
    "print(X_train.head())"
   ]
  },
  {
   "cell_type": "code",
   "execution_count": 83,
   "metadata": {},
   "outputs": [],
   "source": [
    "train=X_train[(X_train['cycle']<=90)]\n",
    "test=X_train[(X_train['cycle']>90)&(X_train['Batt_name']==\"B0005\")]\n",
    "#per=test\n",
    "#per2=test\n",
    "per3=test"
   ]
  },
  {
   "cell_type": "code",
   "execution_count": 12,
   "metadata": {},
   "outputs": [
    {
     "data": {
      "text/plain": [
       "Batt_name           object\n",
       "cycle                int64\n",
       "voltage_battery    float64\n",
       "current_battery    float64\n",
       "temp_battery       float64\n",
       "current_load       float64\n",
       "voltage_load       float64\n",
       "time               float64\n",
       "Capacity           float64\n",
       "dtype: object"
      ]
     },
     "execution_count": 12,
     "metadata": {},
     "output_type": "execute_result"
    }
   ],
   "source": [
    "test.dtypes"
   ]
  },
  {
   "cell_type": "code",
   "execution_count": 13,
   "metadata": {},
   "outputs": [],
   "source": [
    "X_data_train=train.iloc[:,:-1].values\n",
    "Y_data_train=train.iloc[:,8].values\n",
    "X_data_test=test.iloc[:,:-1].values\n",
    "Y_data_test=test.iloc[:,8].values\n",
    "from sklearn.preprocessing import LabelEncoder\n",
    "labelEconder=LabelEncoder()\n",
    "X_data_train[:,0]=labelEconder.fit_transform(X_data_train[:,0])\n",
    "X_data_test[:,0]=labelEconder.fit_transform(X_data_test[:,0])\n",
    "\n",
    "\n",
    "\n",
    "#train.to_csv('trainData.csv')\n",
    "#test.to_csv('testData.csv')"
   ]
  },
  {
   "cell_type": "code",
   "execution_count": 94,
   "metadata": {},
   "outputs": [],
   "source": [
    "#print(X_data_test)"
   ]
  },
  {
   "cell_type": "code",
   "execution_count": 15,
   "metadata": {},
   "outputs": [],
   "source": [
    "targ_train = train['Capacity']\n",
    "fet_train=train[featurs]\n",
    "targ_test=test['Capacity']\n",
    "fet_test=test[featurs]"
   ]
  },
  {
   "cell_type": "code",
   "execution_count": 95,
   "metadata": {},
   "outputs": [],
   "source": [
    "#print(targ_train)"
   ]
  },
  {
   "cell_type": "code",
   "execution_count": 17,
   "metadata": {},
   "outputs": [
    {
     "name": "stdout",
     "output_type": "stream",
     "text": [
      "    Batt_name  cycle  voltage_battery  current_battery  temp_battery  \\\n",
      "470     B0005     91         3.494045        -0.000743     36.763621   \n",
      "471     B0005     92         3.510042        -0.001763     36.502306   \n",
      "472     B0005     93         3.535925         0.001570     35.910172   \n",
      "473     B0005     94         3.529351        -0.003970     35.878972   \n",
      "474     B0005     95         3.541857        -0.001086     35.629228   \n",
      "\n",
      "     current_load  voltage_load      time  Capacity  \n",
      "470        0.0006           0.0  3082.937  1.563849  \n",
      "471        0.0006           0.0  3074.266  1.548092  \n",
      "472        0.0006           0.0  3066.000  1.532376  \n",
      "473        0.0006           0.0  3056.437  1.526953  \n",
      "474        0.0006           0.0  3048.219  1.516957  \n"
     ]
    }
   ],
   "source": [
    "print(fet_test.head())"
   ]
  },
  {
   "cell_type": "code",
   "execution_count": 68,
   "metadata": {},
   "outputs": [],
   "source": [
    "import pandas as pd\n",
    "import numpy as np\n",
    "\n",
    "\n",
    "import matplotlib.pyplot as plt\n",
    "plt.style.use('ggplot')\n",
    "%matplotlib inline  \n",
    "\n",
    "from sklearn import linear_model\n",
    "from sklearn.ensemble import RandomForestRegressor\n",
    "\n",
    "from sklearn import model_selection #import cross_val_score, StratifiedKFold\n",
    "from sklearn.tree import DecisionTreeRegressor, DecisionTreeClassifier, export_graphviz\n",
    "from sklearn import metrics  # mean_squared_error, mean_absolute_error, median_absolute_error, explained_variance_score, r2_score\n",
    "from sklearn.feature_selection import SelectFromModel, RFECV"
   ]
  },
  {
   "cell_type": "code",
   "execution_count": null,
   "metadata": {},
   "outputs": [],
   "source": []
  },
  {
   "cell_type": "code",
   "execution_count": 69,
   "metadata": {},
   "outputs": [
    {
     "data": {
      "text/plain": [
       "LinearRegression(copy_X=True, fit_intercept=True, n_jobs=None,\n",
       "         normalize=False)"
      ]
     },
     "execution_count": 69,
     "metadata": {},
     "output_type": "execute_result"
    }
   ],
   "source": [
    "linreg = linear_model.LinearRegression()\n",
    "linreg.fit(X_data_train, Y_data_train)"
   ]
  },
  {
   "cell_type": "code",
   "execution_count": 70,
   "metadata": {},
   "outputs": [],
   "source": [
    "y_test_predict = linreg.predict(X_data_test)\n",
    "y_train_predict = linreg.predict(X_data_train)"
   ]
  },
  {
   "cell_type": "code",
   "execution_count": 71,
   "metadata": {},
   "outputs": [
    {
     "name": "stdout",
     "output_type": "stream",
     "text": [
      "R^2 training: 0.841, R^2 test: 0.931\n"
     ]
    },
    {
     "data": {
      "text/html": [
       "<div>\n",
       "<style scoped>\n",
       "    .dataframe tbody tr th:only-of-type {\n",
       "        vertical-align: middle;\n",
       "    }\n",
       "\n",
       "    .dataframe tbody tr th {\n",
       "        vertical-align: top;\n",
       "    }\n",
       "\n",
       "    .dataframe thead th {\n",
       "        text-align: right;\n",
       "    }\n",
       "</style>\n",
       "<table border=\"1\" class=\"dataframe\">\n",
       "  <thead>\n",
       "    <tr style=\"text-align: right;\">\n",
       "      <th></th>\n",
       "      <th>Linear Regression</th>\n",
       "    </tr>\n",
       "  </thead>\n",
       "  <tbody>\n",
       "    <tr>\n",
       "      <th>Root Mean Squared Error</th>\n",
       "      <td>0.019107</td>\n",
       "    </tr>\n",
       "    <tr>\n",
       "      <th>Mean Absolute Error</th>\n",
       "      <td>0.017314</td>\n",
       "    </tr>\n",
       "    <tr>\n",
       "      <th>R^2</th>\n",
       "      <td>0.931406</td>\n",
       "    </tr>\n",
       "    <tr>\n",
       "      <th>Explained Variance</th>\n",
       "      <td>0.951416</td>\n",
       "    </tr>\n",
       "  </tbody>\n",
       "</table>\n",
       "</div>"
      ],
      "text/plain": [
       "                         Linear Regression\n",
       "Root Mean Squared Error           0.019107\n",
       "Mean Absolute Error               0.017314\n",
       "R^2                               0.931406\n",
       "Explained Variance                0.951416"
      ]
     },
     "execution_count": 71,
     "metadata": {},
     "output_type": "execute_result"
    }
   ],
   "source": [
    "print('R^2 training: %.3f, R^2 test: %.3f' % (\n",
    "      (metrics.r2_score(Y_data_train, y_train_predict)), \n",
    "      (metrics.r2_score(Y_data_test, y_test_predict))))\n",
    "linreg_metrics = get_regression_metrics('Linear Regression', Y_data_test, y_test_predict)\n",
    "linreg_metrics"
   ]
  },
  {
   "cell_type": "code",
   "execution_count": 72,
   "metadata": {},
   "outputs": [
    {
     "name": "stdout",
     "output_type": "stream",
     "text": [
      "Capacity_predict=======Actual value======difference\n",
      "1.562805080532677     1.56384914    0.0010440594673231107\n",
      "1.552746727831787     1.54809152    -0.004655207831786967\n",
      "1.5372293814338185     1.53237556    -0.004853821433818517\n",
      "1.5338721436039688     1.52695283    -0.006919313603968913\n",
      "1.5253085991401925     1.5169573    -0.008351299140192392\n",
      "1.5237094944246548     1.5118976    -0.0118118944246548\n",
      "1.5185102256044312     1.5065639    -0.011946325604431207\n",
      "1.5164258080770507     1.50154535    -0.01488045807705074\n",
      "1.5064004212518642     1.49084441    -0.015556011251864232\n",
      "1.503021958751388     1.48586838    -0.0171535787513879\n",
      "1.4995672827462116     1.48041368    -0.019153602746211584\n",
      "1.4960969583895283     1.47520959    -0.020887368389528316\n",
      "1.5008215709975483     1.4859036    -0.014917970997548213\n",
      "1.5073067741457074     1.49609183    -0.01121494414570745\n",
      "1.499776767773009     1.48080059    -0.018976177773008862\n",
      "1.4901004810301894     1.46975433    -0.02034615103018944\n",
      "1.4828272897816146     1.45390123    -0.028926059781614555\n",
      "1.4760678198845387     1.45414621    -0.02192160988453873\n",
      "1.4812430296275758     1.45502375    -0.026219279627575753\n",
      "1.4770294608902117     1.44904216    -0.02798730089021162\n",
      "1.4644734188460353     1.43867094    -0.02580247884603537\n",
      "1.4601681721240434     1.43344543    -0.026722742124043464\n",
      "1.4626290930598382     1.43339589    -0.029233203059838342\n",
      "1.4593280039892575     1.42806487    -0.03126313398925751\n",
      "1.4537248426580067     1.42292032    -0.030804522658006706\n",
      "1.4486491279256501     1.41742903    -0.03122009792565006\n",
      "1.4439592827872745     1.41240923    -0.03155005278727452\n",
      "1.4455018841434597     1.41257879    -0.03292309414345973\n",
      "1.443303612727409     1.40759837    -0.03570524272740894\n",
      "1.448377112875089     1.43339205    -0.014985062875089161\n",
      "1.4496433801600594     1.43825502    -0.011388360160059507\n",
      "1.4334890531758833     1.41735472    -0.016134333175883198\n",
      "1.4236357679292273     1.40698166    -0.01665410792922728\n",
      "1.4200218395394848     1.40120378    -0.0188180595394849\n",
      "1.415766062269857     1.39670082    -0.019065242269856952\n",
      "1.4130225442817108     1.39128479    -0.021737754281710764\n",
      "1.4079446286508772     1.38622877    -0.021715858650877218\n",
      "1.4013002158400902     1.38043668    -0.020863535840090153\n",
      "1.396255230001553     1.37523642    -0.021018810001552923\n",
      "1.3945065104723553     1.3705128    -0.023993710472355323\n",
      "1.3928086506737347     1.37050856    -0.02230009067373473\n",
      "1.3862708031623607     1.36473551    -0.02153529316236069\n",
      "1.393346554210697     1.37539202    -0.017954534210697037\n",
      "1.3945583840250495     1.38611152    -0.008446864025049461\n",
      "1.3845344611585866     1.36985    -0.01468446115858657\n",
      "1.380000058487637     1.36478279    -0.015217268487637048\n",
      "1.3688660743475127     1.35432205    -0.014544024347512785\n",
      "1.3720619160918988     1.3546417    -0.01742021609189881\n",
      "1.3728969689226789     1.35470392    -0.018193048922678923\n",
      "1.3660693083440245     1.349315    -0.01675430834402447\n",
      "1.3598497859093126     1.34418919    -0.01566059590931257\n",
      "1.3528858530374464     1.33899138    -0.013894473037446398\n",
      "1.3547973648782474     1.33891452    -0.015882844878247315\n",
      "1.3495859958523324     1.33400668    -0.01557931585233252\n",
      "1.3420071091759727     1.32864443    -0.01336267917597267\n",
      "1.3347628250547983     1.3231708999999998    -0.011591925054798446\n",
      "1.3289203672090926     1.31816916    -0.010751207209092506\n",
      "1.3321393845041247     1.31846644    -0.013672944504124818\n",
      "1.3303092154034055     1.31829304    -0.012016175403405605\n",
      "1.3226622940960058     1.32387242    0.0012101259039942747\n",
      "1.3389419893122136     1.36012168    0.021179690687786357\n",
      "1.3281544056788375     1.33953069    0.011376284321162444\n",
      "1.3192151945129615     1.32902866    0.009813465487038542\n",
      "1.31294576103453     1.32367413    0.010728368965469803\n",
      "1.3090376468466047     1.3186339    0.009596253153395295\n",
      "1.3031705536687253     1.31347513    0.010304576331274795\n",
      "1.3029355633884627     1.31320206    0.010266496611537335\n",
      "1.2964615221466178     1.30779599    0.011334467853382213\n",
      "1.2923436046844192     1.30303292    0.010689315315580705\n",
      "1.2919014395495034     1.30335736    0.011455920450496482\n",
      "1.2922323109028226     1.30341004    0.011177729097177291\n",
      "1.2857299497680326     1.29788708    0.012157130231967406\n",
      "1.2846351941959968     1.29807351    0.013438315804003231\n",
      "1.2790293194032667     1.29346361    0.014434290596733401\n",
      "1.273999144838292     1.28800339    0.014004245161708173\n",
      "1.2728257628788675     1.28745252    0.014626757121132483\n",
      "1.2812035289691843     1.30901536    0.027811831030815748\n",
      "1.2789512672895094     1.32507933    0.04612806271049075\n"
     ]
    }
   ],
   "source": [
    "print(\"Capacity_predict=======Actual value======difference\")\n",
    "for i in range(len(y_test_predict)):\n",
    "    print(str(y_test_predict[i])+\"     \"+ str(Y_data_test[i]) +\"    \"+str(Y_data_test[i]-y_test_predict[i]))"
   ]
  },
  {
   "cell_type": "code",
   "execution_count": 90,
   "metadata": {},
   "outputs": [
    {
     "name": "stderr",
     "output_type": "stream",
     "text": [
      "/home/khaled/anaconda3/lib/python3.7/site-packages/ipykernel_launcher.py:2: SettingWithCopyWarning: \n",
      "A value is trying to be set on a copy of a slice from a DataFrame.\n",
      "Try using .loc[row_indexer,col_indexer] = value instead\n",
      "\n",
      "See the caveats in the documentation: http://pandas.pydata.org/pandas-docs/stable/indexing.html#indexing-view-versus-copy\n",
      "  \n"
     ]
    }
   ],
   "source": [
    "\n",
    "per['perd']=y_test_predict\n",
    "#for i in range(len(per)):\n",
    " #   per['Capacity'][i]=y_test_predict[i]\n"
   ]
  },
  {
   "cell_type": "code",
   "execution_count": null,
   "metadata": {},
   "outputs": [],
   "source": []
  },
  {
   "cell_type": "code",
   "execution_count": 91,
   "metadata": {},
   "outputs": [
    {
     "data": {
      "text/plain": [
       "Text(0.5, 1.0, 'Discharge B0005')"
      ]
     },
     "execution_count": 91,
     "metadata": {},
     "output_type": "execute_result"
    },
    {
     "data": {
      "image/png": "[encoded data removed]",
      "text/plain": [
       "<Figure size 720x360 with 1 Axes>"
      ]
     },
     "metadata": {},
     "output_type": "display_data"
    }
   ],
   "source": [
    "\n",
    "%matplotlib inline\n",
    "import matplotlib.pyplot as plt\n",
    "import seaborn as sns\n",
    "plot_df = X_train.loc[(X_train['cycle']>=1)&(X_train['Batt_name']==\"B0005\"),['cycle','Capacity']]\n",
    "plot_per=per.loc[per['cycle']>=90,['cycle','perd']]\n",
    "sns.set_style(\"darkgrid\")\n",
    "plt.figure(figsize=(10, 5))\n",
    "plt.plot(plot_df['cycle'], plot_df['Capacity'])\n",
    "plt.plot(plot_per['cycle'],plot_per['perd'])\n",
    "#Draw threshold\n",
    "plt.plot([0.,168], [1.4, 1.4])\n",
    "plt.ylabel('Capacity')\n",
    "# make x-axis ticks legible\n",
    "adf = plt.gca().get_xaxis().get_major_formatter()\n",
    "plt.xlabel('cycle')\n",
    "plt.title('Discharge B0005')"
   ]
  },
  {
   "cell_type": "code",
   "execution_count": 80,
   "metadata": {},
   "outputs": [
    {
     "name": "stdout",
     "output_type": "stream",
     "text": [
      "R^2 training: 0.841, R^2 test: 0.932\n"
     ]
    },
    {
     "data": {
      "text/html": [
       "<div>\n",
       "<style scoped>\n",
       "    .dataframe tbody tr th:only-of-type {\n",
       "        vertical-align: middle;\n",
       "    }\n",
       "\n",
       "    .dataframe tbody tr th {\n",
       "        vertical-align: top;\n",
       "    }\n",
       "\n",
       "    .dataframe thead th {\n",
       "        text-align: right;\n",
       "    }\n",
       "</style>\n",
       "<table border=\"1\" class=\"dataframe\">\n",
       "  <thead>\n",
       "    <tr style=\"text-align: right;\">\n",
       "      <th></th>\n",
       "      <th>Ridge Regression</th>\n",
       "    </tr>\n",
       "  </thead>\n",
       "  <tbody>\n",
       "    <tr>\n",
       "      <th>Root Mean Squared Error</th>\n",
       "      <td>0.019086</td>\n",
       "    </tr>\n",
       "    <tr>\n",
       "      <th>Mean Absolute Error</th>\n",
       "      <td>0.017309</td>\n",
       "    </tr>\n",
       "    <tr>\n",
       "      <th>R^2</th>\n",
       "      <td>0.931557</td>\n",
       "    </tr>\n",
       "    <tr>\n",
       "      <th>Explained Variance</th>\n",
       "      <td>0.950671</td>\n",
       "    </tr>\n",
       "  </tbody>\n",
       "</table>\n",
       "</div>"
      ],
      "text/plain": [
       "                         Ridge Regression\n",
       "Root Mean Squared Error          0.019086\n",
       "Mean Absolute Error              0.017309\n",
       "R^2                              0.931557\n",
       "Explained Variance               0.950671"
      ]
     },
     "execution_count": 80,
     "metadata": {},
     "output_type": "execute_result"
    }
   ],
   "source": [
    "rdg = linear_model.Ridge(alpha=0.01)\n",
    "rdg.fit(X_data_train, Y_data_train)\n",
    "\n",
    "y_test_predict1 = rdg.predict(X_data_test)\n",
    "y_train_predict = rdg.predict(X_data_train)\n",
    "\n",
    "print('R^2 training: %.3f, R^2 test: %.3f' % (\n",
    "      (metrics.r2_score(Y_data_train, y_train_predict)), \n",
    "      (metrics.r2_score(Y_data_test, y_test_predict1))))\n",
    "\n",
    "rdg_metrics = get_regression_metrics('Ridge Regression', Y_data_test, y_test_predict1)\n",
    "rdg_metrics"
   ]
  },
  {
   "cell_type": "code",
   "execution_count": 89,
   "metadata": {},
   "outputs": [
    {
     "name": "stderr",
     "output_type": "stream",
     "text": [
      "/home/khaled/anaconda3/lib/python3.7/site-packages/ipykernel_launcher.py:2: SettingWithCopyWarning: \n",
      "A value is trying to be set on a copy of a slice from a DataFrame.\n",
      "Try using .loc[row_indexer,col_indexer] = value instead\n",
      "\n",
      "See the caveats in the documentation: http://pandas.pydata.org/pandas-docs/stable/indexing.html#indexing-view-versus-copy\n",
      "  \n"
     ]
    }
   ],
   "source": [
    "\n",
    "per2['perd']=y_test_predict1\n",
    "#for i in range(len(per)):\n",
    " #   per['Capacity'][i]=y_test_predict[i]\n",
    "\n"
   ]
  },
  {
   "cell_type": "code",
   "execution_count": 92,
   "metadata": {},
   "outputs": [
    {
     "data": {
      "text/plain": [
       "Text(0.5, 1.0, 'Discharge B0005')"
      ]
     },
     "execution_count": 92,
     "metadata": {},
     "output_type": "execute_result"
    },
    {
     "data": {
      "image/png": "[encoded data removed]",
      "text/plain": [
       "<Figure size 720x360 with 1 Axes>"
      ]
     },
     "metadata": {},
     "output_type": "display_data"
    }
   ],
   "source": [
    "\n",
    "%matplotlib inline\n",
    "import matplotlib.pyplot as plt\n",
    "import seaborn as sns\n",
    "plot_df = X_train.loc[(X_train['cycle']>=1)&(X_train['Batt_name']==\"B0005\"),['cycle','Capacity']]\n",
    "plot_per=per2.loc[per2['cycle']>=90,['cycle','perd']]\n",
    "sns.set_style(\"darkgrid\")\n",
    "plt.figure(figsize=(10, 5))\n",
    "plt.plot(plot_df['cycle'], plot_df['Capacity'])\n",
    "plt.plot(plot_per['cycle'],plot_per['perd'])\n",
    "#Draw threshold\n",
    "plt.plot([0.,168], [1.4, 1.4])\n",
    "plt.ylabel('Capacity')\n",
    "# make x-axis ticks legible\n",
    "adf = plt.gca().get_xaxis().get_major_formatter()\n",
    "plt.xlabel('cycle')\n",
    "plt.title('Discharge B0005')"
   ]
  },
  {
   "cell_type": "code",
   "execution_count": 78,
   "metadata": {},
   "outputs": [],
   "source": [
    "def get_regression_metrics(model, actual, predicted):\n",
    "    \n",
    "    \"\"\"Calculate main regression metrics.\n",
    "    \n",
    "    Args:\n",
    "        model (str): The model name identifier\n",
    "        actual (series): Contains the test label values\n",
    "        predicted (series): Contains the predicted values\n",
    "        \n",
    "    Returns:\n",
    "        dataframe: The combined metrics in single dataframe\n",
    "    \n",
    "    \n",
    "    \"\"\"\n",
    "    regr_metrics = {\n",
    "                        'Root Mean Squared Error' : metrics.mean_squared_error(actual, predicted)**0.5,\n",
    "                        'Mean Absolute Error' : metrics.mean_absolute_error(actual, predicted),\n",
    "                        'R^2' : metrics.r2_score(actual, predicted),\n",
    "                        'Explained Variance' : metrics.explained_variance_score(actual, predicted)\n",
    "                   }\n",
    "\n",
    "    #return reg_metrics\n",
    "    df_regr_metrics = pd.DataFrame.from_dict(regr_metrics, orient='index')\n",
    "    df_regr_metrics.columns = [model]\n",
    "    return df_regr_metrics"
   ]
  },
  {
   "cell_type": "code",
   "execution_count": 84,
   "metadata": {},
   "outputs": [
    {
     "name": "stdout",
     "output_type": "stream",
     "text": [
      "R^2 training: 0.936, R^2 test: 0.863\n"
     ]
    },
    {
     "data": {
      "text/html": [
       "<div>\n",
       "<style scoped>\n",
       "    .dataframe tbody tr th:only-of-type {\n",
       "        vertical-align: middle;\n",
       "    }\n",
       "\n",
       "    .dataframe tbody tr th {\n",
       "        vertical-align: top;\n",
       "    }\n",
       "\n",
       "    .dataframe thead th {\n",
       "        text-align: right;\n",
       "    }\n",
       "</style>\n",
       "<table border=\"1\" class=\"dataframe\">\n",
       "  <thead>\n",
       "    <tr style=\"text-align: right;\">\n",
       "      <th></th>\n",
       "      <th>Polynomial Regression</th>\n",
       "    </tr>\n",
       "  </thead>\n",
       "  <tbody>\n",
       "    <tr>\n",
       "      <th>Root Mean Squared Error</th>\n",
       "      <td>0.026959</td>\n",
       "    </tr>\n",
       "    <tr>\n",
       "      <th>Mean Absolute Error</th>\n",
       "      <td>0.023435</td>\n",
       "    </tr>\n",
       "    <tr>\n",
       "      <th>R^2</th>\n",
       "      <td>0.863451</td>\n",
       "    </tr>\n",
       "    <tr>\n",
       "      <th>Explained Variance</th>\n",
       "      <td>0.953560</td>\n",
       "    </tr>\n",
       "  </tbody>\n",
       "</table>\n",
       "</div>"
      ],
      "text/plain": [
       "                         Polynomial Regression\n",
       "Root Mean Squared Error               0.026959\n",
       "Mean Absolute Error                   0.023435\n",
       "R^2                                   0.863451\n",
       "Explained Variance                    0.953560"
      ]
     },
     "execution_count": 84,
     "metadata": {},
     "output_type": "execute_result"
    }
   ],
   "source": [
    "from sklearn.preprocessing import PolynomialFeatures\n",
    "\n",
    "poly = PolynomialFeatures(degree=2)\n",
    "\n",
    "X_train_poly = poly.fit_transform(X_data_train)\n",
    "X_test_poly = poly.fit_transform(X_data_test)\n",
    "\n",
    "\n",
    "polyreg = linear_model.LinearRegression()\n",
    "polyreg.fit(X_train_poly, Y_data_train)\n",
    "\n",
    "y_test_predict2 = polyreg.predict(X_test_poly)\n",
    "y_train_predict = polyreg.predict(X_train_poly)\n",
    "\n",
    "print('R^2 training: %.3f, R^2 test: %.3f' % (\n",
    "      (metrics.r2_score(Y_data_train, y_train_predict)), \n",
    "      (metrics.r2_score(Y_data_test, y_test_predict2))))\n",
    "\n",
    "polyreg_metrics = get_regression_metrics('Polynomial Regression', Y_data_test, y_test_predict2)\n",
    "polyreg_metrics"
   ]
  },
  {
   "cell_type": "code",
   "execution_count": 87,
   "metadata": {},
   "outputs": [
    {
     "name": "stderr",
     "output_type": "stream",
     "text": [
      "/home/khaled/anaconda3/lib/python3.7/site-packages/ipykernel_launcher.py:3: SettingWithCopyWarning: \n",
      "A value is trying to be set on a copy of a slice from a DataFrame.\n",
      "Try using .loc[row_indexer,col_indexer] = value instead\n",
      "\n",
      "See the caveats in the documentation: http://pandas.pydata.org/pandas-docs/stable/indexing.html#indexing-view-versus-copy\n",
      "  This is separate from the ipykernel package so we can avoid doing imports until\n"
     ]
    }
   ],
   "source": [
    "\n",
    "\n",
    "per3['perd']=y_test_predict2\n",
    "#for i in range(len(per)):\n",
    " #   per['Capacity'][i]=y_test_predict[i]\n"
   ]
  },
  {
   "cell_type": "code",
   "execution_count": 93,
   "metadata": {},
   "outputs": [
    {
     "data": {
      "text/plain": [
       "Text(0.5, 1.0, 'Discharge B0005')"
      ]
     },
     "execution_count": 93,
     "metadata": {},
     "output_type": "execute_result"
    },
    {
     "data": {
      "image/png": "[encoded data removed]",
      "text/plain": [
       "<Figure size 720x360 with 1 Axes>"
      ]
     },
     "metadata": {},
     "output_type": "display_data"
    }
   ],
   "source": [
    "\n",
    "%matplotlib inline\n",
    "import matplotlib.pyplot as plt\n",
    "import seaborn as sns\n",
    "plot_df = X_train.loc[(X_train['cycle']>=1)&(X_train['Batt_name']==\"B0005\"),['cycle','Capacity']]\n",
    "plot_per=per3.loc[per3['cycle']>=90,['cycle','perd']]\n",
    "sns.set_style(\"darkgrid\")\n",
    "plt.figure(figsize=(10, 5))\n",
    "plt.plot(plot_df['cycle'], plot_df['Capacity'])\n",
    "plt.plot(plot_per['cycle'],plot_per['perd'])\n",
    "#Draw threshold\n",
    "plt.plot([0.,168], [1.4, 1.4])\n",
    "plt.ylabel('Capacity')\n",
    "# make x-axis ticks legible\n",
    "adf = plt.gca().get_xaxis().get_major_formatter()\n",
    "plt.xlabel('cycle')\n",
    "plt.title('Discharge B0005')"
   ]
  },
  {
   "cell_type": "code",
   "execution_count": null,
   "metadata": {},
   "outputs": [],
   "source": []
  }
 ],
 "metadata": {
  "kernelspec": {
   "display_name": "Python 3.6 (tensorflow)",
   "language": "python",
   "name": "tensorflow"
  },
  "language_info": {
   "codemirror_mode": {
    "name": "ipython",
    "version": 3
   },
   "file_extension": ".py",
   "mimetype": "text/x-python",
   "name": "python",
   "nbconvert_exporter": "python",
   "pygments_lexer": "ipython3",
   "version": "3.7.1"
  }
 },
 "nbformat": 4,
 "nbformat_minor": 2
}
