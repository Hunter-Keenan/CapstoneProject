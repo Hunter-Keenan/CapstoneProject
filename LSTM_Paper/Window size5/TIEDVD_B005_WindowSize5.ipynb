{
 "cells": [
  {
   "cell_type": "markdown",
   "metadata": {},
   "source": [
    "<h1>LSTM with TIEDVD for B0005.</h1>\n",
    "<p> Import the Libraries that needed for processing the data, and build the model</p>"
   ]
  },
  {
   "cell_type": "code",
   "execution_count": 1,
   "metadata": {},
   "outputs": [],
   "source": [
    "import pandas as pd"
   ]
  },
  {
   "cell_type": "markdown",
   "metadata": {},
   "source": [
    "<p> Used pandas library to read the data from CSV file</p>"
   ]
  },
  {
   "cell_type": "code",
   "execution_count": 2,
   "metadata": {},
   "outputs": [],
   "source": [
    "dis_H=pd.read_csv('Discharge5_H1.csv')"
   ]
  },
  {
   "cell_type": "code",
   "execution_count": 2,
   "metadata": {},
   "outputs": [
    {
     "name": "stderr",
     "output_type": "stream",
     "text": [
      "Using TensorFlow backend.\n"
     ]
    }
   ],
   "source": [
    "\"\"\"\n",
    "Created on Mon Apr  10 09:02:14 2019\n",
    "\n",
    "@author: khaled\n",
    "\"\"\"\n",
    "import sys \n",
    "import numpy as np # linear algebra\n",
    "from scipy.stats import randint\n",
    "import pandas as pd # data processing, CSV file I/O (e.g. pd.read_csv), data manipulation as in SQL\n",
    "import matplotlib.pyplot as plt # this is used for the plot the graph \n",
    "import seaborn as sns # used for plot interactive graph. \n",
    "from sklearn.model_selection import train_test_split # to split the data into two parts\n",
    "#from sklearn.cross_validation import KFold # use for cross validation\n",
    "from sklearn.preprocessing import StandardScaler # for normalization\n",
    "from sklearn.preprocessing import MinMaxScaler\n",
    "from sklearn.pipeline import Pipeline # pipeline making\n",
    "from sklearn.model_selection import cross_val_score\n",
    "from sklearn.feature_selection import SelectFromModel\n",
    "from sklearn import metrics # for the check the error and accuracy of the model\n",
    "from sklearn.metrics import mean_squared_error,r2_score\n",
    "\n",
    "## for Deep-learing:\n",
    "import keras\n",
    "from keras.layers import Dense\n",
    "from keras.models import Sequential\n",
    "from keras.utils import to_categorical\n",
    "from keras.optimizers import SGD \n",
    "from keras.callbacks import EarlyStopping\n",
    "from keras.utils import np_utils\n",
    "import itertools\n",
    "from keras.layers import LSTM\n",
    "from keras.layers.convolutional import Conv1D\n",
    "from keras.layers.convolutional import MaxPooling1D\n",
    "from keras.layers import Dropout\n"
   ]
  },
  {
   "cell_type": "code",
   "execution_count": 3,
   "metadata": {},
   "outputs": [],
   "source": [
    "df=pd.read_csv(\"Discharge5_H1.csv\")\n",
    "featurs=['Batt_name','cycle','amb_temp','voltage_battery','current_battery','temp_battery','current_load','voltage_load','time','Capacity','H']\n",
    "f1=['cycle','H']"
   ]
  },
  {
   "cell_type": "markdown",
   "metadata": {},
   "source": [
    "<h2>Split the data int two parts:</h2> \n",
    "    <ol>\n",
    "        <li> data_train: which is contains the data that will be trained on the model.</li>\n",
    "        <li> data_test: which is contains the data that will be tested the model</il>\n",
    "       </ol>"
   ]
  },
  {
   "cell_type": "code",
   "execution_count": 4,
   "metadata": {},
   "outputs": [],
   "source": [
    "dataset=df[f1]\n",
    "data_train=dataset[(dataset['cycle']<82)]\n",
    "data_set_train=data_train.iloc[:,1:2].values\n",
    "data_test=dataset[(dataset['cycle']>=82)]\n",
    "data_set_test=data_test.iloc[:,1:2].values"
   ]
  },
  {
   "cell_type": "code",
   "execution_count": 5,
   "metadata": {},
   "outputs": [],
   "source": [
    "test=dataset[(dataset['cycle']>=82)]\n"
   ]
  },
  {
   "cell_type": "markdown",
   "metadata": {},
   "source": [
    "<h4> Scaling the training dataset and testing dataset between (-1,1)</h4>\n"
   ]
  },
  {
   "cell_type": "code",
   "execution_count": 6,
   "metadata": {},
   "outputs": [],
   "source": [
    "from sklearn.preprocessing import MinMaxScaler\n",
    "sc=MinMaxScaler(feature_range=(0,1))\n",
    "data_set_train=sc.fit_transform(data_set_train)\n",
    "data_set_test=sc.transform(data_set_test)\n",
    "\n",
    "X_train=[]\n",
    "y_train=[]\n",
    "for i in range(5,81):\n",
    "    X_train.append(data_set_train[i-5:i,0])\n",
    "    y_train.append(data_set_train[i,0])\n",
    "X_train,y_train=np.array(X_train),np.array(y_train)\n",
    " \n",
    "X_train=np.reshape(X_train,(X_train.shape[0],X_train.shape[1],1))"
   ]
  },
  {
   "cell_type": "markdown",
   "metadata": {},
   "source": [
    "<p>One critical advantage of <b>LSTMs</b> is their ability to remember from long-term sequences (window sizes) which is hard to achieve by traditional feature engineering.</p>\n",
    "<p>When using <b>LSTMs </b>in the time-series domain, one important parameter to pick is the sequence length which is the window for <b>LSTMs</b> to look back.</p>\n",
    "<p>Because the dataset is too small we train <b>LSTM</b> with window size=5."
   ]
  },
  {
   "cell_type": "markdown",
   "metadata": {},
   "source": [
    "<h2>Build LSTM Model</h2>\n",
    "<p>The first layer is an LSTM layer with 200 units followed by two hidden LSTM layers with 200 units. Dropout is also applied after each LSTM layer to control overfitting. Final layer is a Dense output layer with single unit and Adam optimization</p>"
   ]
  },
  {
   "cell_type": "code",
   "execution_count": 49,
   "metadata": {},
   "outputs": [
    {
     "name": "stdout",
     "output_type": "stream",
     "text": [
      "Epoch 1/200\n",
      "76/76 [==============================] - 5s 63ms/step - loss: 0.4624\n",
      "Epoch 2/200\n",
      "76/76 [==============================] - 0s 3ms/step - loss: 0.2285\n",
      "Epoch 3/200\n",
      "76/76 [==============================] - 0s 3ms/step - loss: 0.0703\n",
      "Epoch 4/200\n",
      "76/76 [==============================] - 0s 3ms/step - loss: 0.0389\n",
      "Epoch 5/200\n",
      "76/76 [==============================] - 0s 3ms/step - loss: 0.0370\n",
      "Epoch 6/200\n",
      "76/76 [==============================] - 0s 3ms/step - loss: 0.0458\n",
      "Epoch 7/200\n",
      "76/76 [==============================] - 0s 3ms/step - loss: 0.0337\n",
      "Epoch 8/200\n",
      "76/76 [==============================] - 0s 3ms/step - loss: 0.0282\n",
      "Epoch 9/200\n",
      "76/76 [==============================] - 0s 3ms/step - loss: 0.0192\n",
      "Epoch 10/200\n",
      "76/76 [==============================] - 0s 3ms/step - loss: 0.0101\n",
      "Epoch 11/200\n",
      "76/76 [==============================] - 0s 3ms/step - loss: 0.0110\n",
      "Epoch 12/200\n",
      "76/76 [==============================] - 0s 3ms/step - loss: 0.0142\n",
      "Epoch 13/200\n",
      "76/76 [==============================] - 0s 3ms/step - loss: 0.0169\n",
      "Epoch 14/200\n",
      "76/76 [==============================] - 0s 3ms/step - loss: 0.0177\n",
      "Epoch 15/200\n",
      "76/76 [==============================] - 0s 3ms/step - loss: 0.0094\n",
      "Epoch 16/200\n",
      "76/76 [==============================] - 0s 3ms/step - loss: 0.0100\n",
      "Epoch 17/200\n",
      "76/76 [==============================] - 0s 3ms/step - loss: 0.0153\n",
      "Epoch 18/200\n",
      "76/76 [==============================] - 0s 3ms/step - loss: 0.0120\n",
      "Epoch 19/200\n",
      "76/76 [==============================] - 0s 4ms/step - loss: 0.0092\n",
      "Epoch 20/200\n",
      "76/76 [==============================] - 0s 3ms/step - loss: 0.0076\n",
      "Epoch 21/200\n",
      "76/76 [==============================] - 0s 3ms/step - loss: 0.0093\n",
      "Epoch 22/200\n",
      "76/76 [==============================] - 0s 3ms/step - loss: 0.0061\n",
      "Epoch 23/200\n",
      "76/76 [==============================] - 0s 3ms/step - loss: 0.0066\n",
      "Epoch 24/200\n",
      "76/76 [==============================] - 0s 4ms/step - loss: 0.0062\n",
      "Epoch 25/200\n",
      "76/76 [==============================] - 0s 3ms/step - loss: 0.0113\n",
      "Epoch 26/200\n",
      "76/76 [==============================] - 0s 3ms/step - loss: 0.0066\n",
      "Epoch 27/200\n",
      "76/76 [==============================] - 0s 3ms/step - loss: 0.0051\n",
      "Epoch 28/200\n",
      "76/76 [==============================] - 0s 4ms/step - loss: 0.0106\n",
      "Epoch 29/200\n",
      "76/76 [==============================] - 0s 4ms/step - loss: 0.0077\n",
      "Epoch 30/200\n",
      "76/76 [==============================] - 0s 4ms/step - loss: 0.0064\n",
      "Epoch 31/200\n",
      "76/76 [==============================] - 0s 4ms/step - loss: 0.0071\n",
      "Epoch 32/200\n",
      "76/76 [==============================] - 0s 4ms/step - loss: 0.0081\n",
      "Epoch 33/200\n",
      "76/76 [==============================] - 0s 4ms/step - loss: 0.0144\n",
      "Epoch 34/200\n",
      "76/76 [==============================] - 0s 3ms/step - loss: 0.0084\n",
      "Epoch 35/200\n",
      "76/76 [==============================] - 0s 3ms/step - loss: 0.0238\n",
      "Epoch 36/200\n",
      "76/76 [==============================] - 0s 3ms/step - loss: 0.0229\n",
      "Epoch 37/200\n",
      "76/76 [==============================] - 0s 3ms/step - loss: 0.0172\n",
      "Epoch 38/200\n",
      "76/76 [==============================] - 0s 3ms/step - loss: 0.0079\n",
      "Epoch 39/200\n",
      "76/76 [==============================] - 0s 3ms/step - loss: 0.0109\n",
      "Epoch 40/200\n",
      "76/76 [==============================] - 0s 3ms/step - loss: 0.0083\n",
      "Epoch 41/200\n",
      "76/76 [==============================] - 0s 3ms/step - loss: 0.0159\n",
      "Epoch 42/200\n",
      "76/76 [==============================] - 0s 3ms/step - loss: 0.0094\n",
      "Epoch 43/200\n",
      "76/76 [==============================] - 0s 3ms/step - loss: 0.0068\n",
      "Epoch 44/200\n",
      "76/76 [==============================] - 0s 3ms/step - loss: 0.0052\n",
      "Epoch 45/200\n",
      "76/76 [==============================] - 0s 4ms/step - loss: 0.0065\n",
      "Epoch 46/200\n",
      "76/76 [==============================] - 0s 3ms/step - loss: 0.0059\n",
      "Epoch 47/200\n",
      "76/76 [==============================] - 0s 3ms/step - loss: 0.0057\n",
      "Epoch 48/200\n",
      "76/76 [==============================] - 0s 4ms/step - loss: 0.0058\n",
      "Epoch 49/200\n",
      "76/76 [==============================] - 0s 4ms/step - loss: 0.0072\n",
      "Epoch 50/200\n",
      "76/76 [==============================] - 0s 3ms/step - loss: 0.0105\n",
      "Epoch 51/200\n",
      "76/76 [==============================] - 0s 4ms/step - loss: 0.0056\n",
      "Epoch 52/200\n",
      "76/76 [==============================] - 0s 3ms/step - loss: 0.0055\n",
      "Epoch 53/200\n",
      "76/76 [==============================] - 0s 3ms/step - loss: 0.0077\n",
      "Epoch 54/200\n",
      "76/76 [==============================] - 0s 4ms/step - loss: 0.0072\n",
      "Epoch 55/200\n",
      "76/76 [==============================] - 0s 4ms/step - loss: 0.0076\n",
      "Epoch 56/200\n",
      "76/76 [==============================] - 0s 3ms/step - loss: 0.0089\n",
      "Epoch 57/200\n",
      "76/76 [==============================] - 0s 3ms/step - loss: 0.0073\n",
      "Epoch 58/200\n",
      "76/76 [==============================] - 0s 3ms/step - loss: 0.0093\n",
      "Epoch 59/200\n",
      "76/76 [==============================] - 0s 3ms/step - loss: 0.0071\n",
      "Epoch 60/200\n",
      "76/76 [==============================] - 0s 3ms/step - loss: 0.0076\n",
      "Epoch 61/200\n",
      "76/76 [==============================] - 0s 3ms/step - loss: 0.0067\n",
      "Epoch 62/200\n",
      "76/76 [==============================] - 0s 4ms/step - loss: 0.0075\n",
      "Epoch 63/200\n",
      "76/76 [==============================] - 0s 3ms/step - loss: 0.0088\n",
      "Epoch 64/200\n",
      "76/76 [==============================] - 0s 3ms/step - loss: 0.0082\n",
      "Epoch 65/200\n",
      "76/76 [==============================] - 0s 3ms/step - loss: 0.0110\n",
      "Epoch 66/200\n",
      "76/76 [==============================] - 0s 3ms/step - loss: 0.0142\n",
      "Epoch 67/200\n",
      "76/76 [==============================] - 0s 3ms/step - loss: 0.0103\n",
      "Epoch 68/200\n",
      "76/76 [==============================] - 0s 3ms/step - loss: 0.0194\n",
      "Epoch 69/200\n",
      "76/76 [==============================] - 0s 3ms/step - loss: 0.0085\n",
      "Epoch 70/200\n",
      "76/76 [==============================] - 0s 3ms/step - loss: 0.0121\n",
      "Epoch 71/200\n",
      "76/76 [==============================] - 0s 3ms/step - loss: 0.0253\n",
      "Epoch 72/200\n",
      "76/76 [==============================] - 0s 3ms/step - loss: 0.0237\n",
      "Epoch 73/200\n",
      "76/76 [==============================] - 0s 3ms/step - loss: 0.0163\n",
      "Epoch 74/200\n",
      "76/76 [==============================] - 0s 3ms/step - loss: 0.0092\n",
      "Epoch 75/200\n",
      "76/76 [==============================] - 0s 3ms/step - loss: 0.0165\n",
      "Epoch 76/200\n",
      "76/76 [==============================] - 0s 3ms/step - loss: 0.0120\n",
      "Epoch 77/200\n",
      "76/76 [==============================] - 0s 3ms/step - loss: 0.0105\n",
      "Epoch 78/200\n",
      "76/76 [==============================] - 0s 3ms/step - loss: 0.0130\n",
      "Epoch 79/200\n",
      "76/76 [==============================] - 0s 3ms/step - loss: 0.0069\n",
      "Epoch 80/200\n",
      "76/76 [==============================] - 0s 3ms/step - loss: 0.0071\n",
      "Epoch 81/200\n",
      "76/76 [==============================] - 0s 3ms/step - loss: 0.0052\n",
      "Epoch 82/200\n",
      "76/76 [==============================] - 0s 3ms/step - loss: 0.0102\n",
      "Epoch 83/200\n",
      "76/76 [==============================] - 0s 3ms/step - loss: 0.0071\n",
      "Epoch 84/200\n",
      "76/76 [==============================] - 0s 3ms/step - loss: 0.0069\n",
      "Epoch 85/200\n",
      "76/76 [==============================] - 0s 3ms/step - loss: 0.0070\n",
      "Epoch 86/200\n",
      "76/76 [==============================] - 0s 3ms/step - loss: 0.0067\n",
      "Epoch 87/200\n",
      "76/76 [==============================] - 0s 3ms/step - loss: 0.0141\n",
      "Epoch 88/200\n",
      "76/76 [==============================] - 0s 3ms/step - loss: 0.0065\n",
      "Epoch 89/200\n",
      "76/76 [==============================] - 0s 3ms/step - loss: 0.0071\n",
      "Epoch 90/200\n",
      "76/76 [==============================] - 0s 3ms/step - loss: 0.0050\n",
      "Epoch 91/200\n",
      "76/76 [==============================] - 0s 3ms/step - loss: 0.0062\n",
      "Epoch 92/200\n",
      "76/76 [==============================] - 0s 3ms/step - loss: 0.0058\n",
      "Epoch 93/200\n",
      "76/76 [==============================] - 0s 3ms/step - loss: 0.0064\n",
      "Epoch 94/200\n",
      "76/76 [==============================] - 0s 3ms/step - loss: 0.0088\n",
      "Epoch 95/200\n",
      "76/76 [==============================] - 0s 3ms/step - loss: 0.0063\n",
      "Epoch 96/200\n",
      "76/76 [==============================] - 0s 3ms/step - loss: 0.0083\n",
      "Epoch 97/200\n",
      "76/76 [==============================] - 0s 3ms/step - loss: 0.0121\n",
      "Epoch 98/200\n",
      "76/76 [==============================] - 0s 3ms/step - loss: 0.0066\n",
      "Epoch 99/200\n",
      "76/76 [==============================] - 0s 3ms/step - loss: 0.0138\n",
      "Epoch 100/200\n",
      "76/76 [==============================] - 0s 3ms/step - loss: 0.0069\n",
      "Epoch 101/200\n",
      "76/76 [==============================] - 0s 3ms/step - loss: 0.0133\n",
      "Epoch 102/200\n"
     ]
    },
    {
     "name": "stdout",
     "output_type": "stream",
     "text": [
      "76/76 [==============================] - 0s 3ms/step - loss: 0.0072\n",
      "Epoch 103/200\n",
      "76/76 [==============================] - 0s 3ms/step - loss: 0.0085\n",
      "Epoch 104/200\n",
      "76/76 [==============================] - 0s 3ms/step - loss: 0.0053\n",
      "Epoch 105/200\n",
      "76/76 [==============================] - 0s 4ms/step - loss: 0.0059\n",
      "Epoch 106/200\n",
      "76/76 [==============================] - 0s 3ms/step - loss: 0.0065\n",
      "Epoch 107/200\n",
      "76/76 [==============================] - 0s 3ms/step - loss: 0.0093\n",
      "Epoch 108/200\n",
      "76/76 [==============================] - 0s 3ms/step - loss: 0.0094\n",
      "Epoch 109/200\n",
      "76/76 [==============================] - 0s 3ms/step - loss: 0.0069\n",
      "Epoch 110/200\n",
      "76/76 [==============================] - 0s 3ms/step - loss: 0.0058\n",
      "Epoch 111/200\n",
      "76/76 [==============================] - 0s 3ms/step - loss: 0.0096\n",
      "Epoch 112/200\n",
      "76/76 [==============================] - 0s 3ms/step - loss: 0.0120\n",
      "Epoch 113/200\n",
      "76/76 [==============================] - 0s 3ms/step - loss: 0.0074\n",
      "Epoch 114/200\n",
      "76/76 [==============================] - 0s 3ms/step - loss: 0.0173\n",
      "Epoch 115/200\n",
      "76/76 [==============================] - 0s 3ms/step - loss: 0.0070\n",
      "Epoch 116/200\n",
      "76/76 [==============================] - 0s 3ms/step - loss: 0.0111\n",
      "Epoch 117/200\n",
      "76/76 [==============================] - 0s 3ms/step - loss: 0.0075\n",
      "Epoch 118/200\n",
      "76/76 [==============================] - 0s 3ms/step - loss: 0.0070\n",
      "Epoch 119/200\n",
      "76/76 [==============================] - 0s 3ms/step - loss: 0.0092\n",
      "Epoch 120/200\n",
      "76/76 [==============================] - 0s 3ms/step - loss: 0.0075\n",
      "Epoch 121/200\n",
      "76/76 [==============================] - 0s 3ms/step - loss: 0.0064\n",
      "Epoch 122/200\n",
      "76/76 [==============================] - 0s 3ms/step - loss: 0.0064\n",
      "Epoch 123/200\n",
      "76/76 [==============================] - 0s 3ms/step - loss: 0.0075\n",
      "Epoch 124/200\n",
      "76/76 [==============================] - 0s 3ms/step - loss: 0.0053\n",
      "Epoch 125/200\n",
      "76/76 [==============================] - 0s 3ms/step - loss: 0.0066\n",
      "Epoch 126/200\n",
      "76/76 [==============================] - 0s 3ms/step - loss: 0.0059\n",
      "Epoch 127/200\n",
      "76/76 [==============================] - 0s 3ms/step - loss: 0.0053\n",
      "Epoch 128/200\n",
      "76/76 [==============================] - 0s 3ms/step - loss: 0.0062\n",
      "Epoch 129/200\n",
      "76/76 [==============================] - 0s 3ms/step - loss: 0.0051\n",
      "Epoch 130/200\n",
      "76/76 [==============================] - 0s 3ms/step - loss: 0.0057\n",
      "Epoch 131/200\n",
      "76/76 [==============================] - 0s 4ms/step - loss: 0.0067\n",
      "Epoch 132/200\n",
      "76/76 [==============================] - 0s 3ms/step - loss: 0.0070\n",
      "Epoch 133/200\n",
      "76/76 [==============================] - 0s 3ms/step - loss: 0.0076\n",
      "Epoch 134/200\n",
      "76/76 [==============================] - 0s 4ms/step - loss: 0.0062\n",
      "Epoch 135/200\n",
      "76/76 [==============================] - 0s 3ms/step - loss: 0.0091\n",
      "Epoch 136/200\n",
      "76/76 [==============================] - 0s 3ms/step - loss: 0.0063\n",
      "Epoch 137/200\n",
      "76/76 [==============================] - 0s 3ms/step - loss: 0.0072\n",
      "Epoch 138/200\n",
      "76/76 [==============================] - 0s 3ms/step - loss: 0.0050\n",
      "Epoch 139/200\n",
      "76/76 [==============================] - 0s 3ms/step - loss: 0.0062\n",
      "Epoch 140/200\n",
      "76/76 [==============================] - 0s 3ms/step - loss: 0.0063\n",
      "Epoch 141/200\n",
      "76/76 [==============================] - 0s 3ms/step - loss: 0.0054\n",
      "Epoch 142/200\n",
      "76/76 [==============================] - 0s 3ms/step - loss: 0.0056\n",
      "Epoch 143/200\n",
      "76/76 [==============================] - 0s 3ms/step - loss: 0.0060\n",
      "Epoch 144/200\n",
      "76/76 [==============================] - 0s 3ms/step - loss: 0.0060\n",
      "Epoch 145/200\n",
      "76/76 [==============================] - 0s 3ms/step - loss: 0.0063\n",
      "Epoch 146/200\n",
      "76/76 [==============================] - 0s 3ms/step - loss: 0.0043\n",
      "Epoch 147/200\n",
      "76/76 [==============================] - 0s 3ms/step - loss: 0.0074\n",
      "Epoch 148/200\n",
      "76/76 [==============================] - 0s 3ms/step - loss: 0.0052\n",
      "Epoch 149/200\n",
      "76/76 [==============================] - 0s 3ms/step - loss: 0.0058\n",
      "Epoch 150/200\n",
      "76/76 [==============================] - 0s 3ms/step - loss: 0.0078\n",
      "Epoch 151/200\n",
      "76/76 [==============================] - 0s 4ms/step - loss: 0.0075\n",
      "Epoch 152/200\n",
      "76/76 [==============================] - 0s 3ms/step - loss: 0.0075\n",
      "Epoch 153/200\n",
      "76/76 [==============================] - 0s 3ms/step - loss: 0.0060\n",
      "Epoch 154/200\n",
      "76/76 [==============================] - 0s 3ms/step - loss: 0.0067\n",
      "Epoch 155/200\n",
      "76/76 [==============================] - 0s 3ms/step - loss: 0.0058\n",
      "Epoch 156/200\n",
      "76/76 [==============================] - 0s 3ms/step - loss: 0.0067\n",
      "Epoch 157/200\n",
      "76/76 [==============================] - 0s 3ms/step - loss: 0.0062\n",
      "Epoch 158/200\n",
      "76/76 [==============================] - 0s 3ms/step - loss: 0.0071\n",
      "Epoch 159/200\n",
      "76/76 [==============================] - 0s 3ms/step - loss: 0.0064\n",
      "Epoch 160/200\n",
      "76/76 [==============================] - 0s 3ms/step - loss: 0.0054\n",
      "Epoch 161/200\n",
      "76/76 [==============================] - 0s 3ms/step - loss: 0.0156\n",
      "Epoch 162/200\n",
      "76/76 [==============================] - 0s 3ms/step - loss: 0.0070\n",
      "Epoch 163/200\n",
      "76/76 [==============================] - 0s 3ms/step - loss: 0.0092\n",
      "Epoch 164/200\n",
      "76/76 [==============================] - 0s 3ms/step - loss: 0.0055\n",
      "Epoch 165/200\n",
      "76/76 [==============================] - 0s 3ms/step - loss: 0.0123\n",
      "Epoch 166/200\n",
      "76/76 [==============================] - 0s 3ms/step - loss: 0.0055\n",
      "Epoch 167/200\n",
      "76/76 [==============================] - 0s 3ms/step - loss: 0.0061\n",
      "Epoch 168/200\n",
      "76/76 [==============================] - 0s 3ms/step - loss: 0.0048\n",
      "Epoch 169/200\n",
      "76/76 [==============================] - 0s 3ms/step - loss: 0.0050\n",
      "Epoch 170/200\n",
      "76/76 [==============================] - 0s 3ms/step - loss: 0.0066\n",
      "Epoch 171/200\n",
      "76/76 [==============================] - 0s 3ms/step - loss: 0.0062\n",
      "Epoch 172/200\n",
      "76/76 [==============================] - 0s 3ms/step - loss: 0.0043\n",
      "Epoch 173/200\n",
      "76/76 [==============================] - 0s 3ms/step - loss: 0.0127\n",
      "Epoch 174/200\n",
      "76/76 [==============================] - 0s 3ms/step - loss: 0.0093\n",
      "Epoch 175/200\n",
      "76/76 [==============================] - 0s 3ms/step - loss: 0.0113\n",
      "Epoch 176/200\n",
      "76/76 [==============================] - 0s 3ms/step - loss: 0.0108\n",
      "Epoch 177/200\n",
      "76/76 [==============================] - 0s 3ms/step - loss: 0.0080\n",
      "Epoch 178/200\n",
      "76/76 [==============================] - 0s 3ms/step - loss: 0.0067\n",
      "Epoch 179/200\n",
      "76/76 [==============================] - 0s 3ms/step - loss: 0.0072\n",
      "Epoch 180/200\n",
      "76/76 [==============================] - 0s 3ms/step - loss: 0.0054\n",
      "Epoch 181/200\n",
      "76/76 [==============================] - 0s 3ms/step - loss: 0.0075\n",
      "Epoch 182/200\n",
      "76/76 [==============================] - 0s 3ms/step - loss: 0.0068\n",
      "Epoch 183/200\n",
      "76/76 [==============================] - 0s 3ms/step - loss: 0.0057\n",
      "Epoch 184/200\n",
      "76/76 [==============================] - 0s 3ms/step - loss: 0.0059\n",
      "Epoch 185/200\n",
      "76/76 [==============================] - 0s 3ms/step - loss: 0.0050\n",
      "Epoch 186/200\n",
      "76/76 [==============================] - 0s 3ms/step - loss: 0.0042\n",
      "Epoch 187/200\n",
      "76/76 [==============================] - 0s 3ms/step - loss: 0.0049\n",
      "Epoch 188/200\n",
      "76/76 [==============================] - 0s 3ms/step - loss: 0.0042\n",
      "Epoch 189/200\n",
      "76/76 [==============================] - 0s 3ms/step - loss: 0.0077\n",
      "Epoch 190/200\n",
      "76/76 [==============================] - 0s 3ms/step - loss: 0.0065\n",
      "Epoch 191/200\n",
      "76/76 [==============================] - 0s 3ms/step - loss: 0.0087\n",
      "Epoch 192/200\n",
      "76/76 [==============================] - 0s 3ms/step - loss: 0.0039\n",
      "Epoch 193/200\n",
      "76/76 [==============================] - 0s 3ms/step - loss: 0.0052\n",
      "Epoch 194/200\n",
      "76/76 [==============================] - 0s 3ms/step - loss: 0.0044\n",
      "Epoch 195/200\n",
      "76/76 [==============================] - 0s 3ms/step - loss: 0.0066\n",
      "Epoch 196/200\n",
      "76/76 [==============================] - 0s 3ms/step - loss: 0.0054\n",
      "Epoch 197/200\n",
      "76/76 [==============================] - 0s 3ms/step - loss: 0.0059\n",
      "Epoch 198/200\n",
      "76/76 [==============================] - 0s 3ms/step - loss: 0.0065\n",
      "Epoch 199/200\n",
      "76/76 [==============================] - 0s 3ms/step - loss: 0.0075\n",
      "Epoch 200/200\n",
      "76/76 [==============================] - 0s 3ms/step - loss: 0.0094\n"
     ]
    },
    {
     "data": {
      "text/plain": [
       "<keras.callbacks.History at 0x7f004c5096a0>"
      ]
     },
     "execution_count": 49,
     "metadata": {},
     "output_type": "execute_result"
    }
   ],
   "source": [
    "regress=Sequential()\n",
    "regress.add(LSTM(units=200, return_sequences=True, input_shape=(X_train.shape[1],1)))\n",
    "regress.add(Dropout(0.3))\n",
    "\n",
    "regress.add(LSTM(units=200, return_sequences=True))\n",
    "regress.add(Dropout(0.3))\n",
    "\n",
    "\n",
    "regress.add(LSTM(units=200, return_sequences=True))\n",
    "regress.add(Dropout(0.3))\n",
    "\n",
    "regress.add(LSTM(units=200))\n",
    "regress.add(Dropout(0.3))\n",
    "\n",
    "\n",
    "regress.add(Dense(units=1))\n",
    "\n",
    "regress.compile(optimizer='adam',loss='mean_squared_error')\n",
    "\n",
    "regress.fit(X_train,y_train,epochs=200,batch_size=25)"
   ]
  },
  {
   "cell_type": "code",
   "execution_count": 65,
   "metadata": {},
   "outputs": [
    {
     "name": "stdout",
     "output_type": "stream",
     "text": [
      "_________________________________________________________________\n",
      "Layer (type)                 Output Shape              Param #   \n",
      "=================================================================\n",
      "lstm_5 (LSTM)                (None, 5, 200)            161600    \n",
      "_________________________________________________________________\n",
      "dropout_5 (Dropout)          (None, 5, 200)            0         \n",
      "_________________________________________________________________\n",
      "lstm_6 (LSTM)                (None, 5, 200)            320800    \n",
      "_________________________________________________________________\n",
      "dropout_6 (Dropout)          (None, 5, 200)            0         \n",
      "_________________________________________________________________\n",
      "lstm_7 (LSTM)                (None, 5, 200)            320800    \n",
      "_________________________________________________________________\n",
      "dropout_7 (Dropout)          (None, 5, 200)            0         \n",
      "_________________________________________________________________\n",
      "lstm_8 (LSTM)                (None, 200)               320800    \n",
      "_________________________________________________________________\n",
      "dropout_8 (Dropout)          (None, 200)               0         \n",
      "_________________________________________________________________\n",
      "dense_2 (Dense)              (None, 1)                 201       \n",
      "=================================================================\n",
      "Total params: 1,124,201\n",
      "Trainable params: 1,124,201\n",
      "Non-trainable params: 0\n",
      "_________________________________________________________________\n"
     ]
    }
   ],
   "source": [
    "regress.summary()"
   ]
  },
  {
   "cell_type": "markdown",
   "metadata": {},
   "source": [
    "<h2>Prepare the test data!</h2>"
   ]
  },
  {
   "cell_type": "code",
   "execution_count": 50,
   "metadata": {},
   "outputs": [],
   "source": [
    "data_total=pd.concat((data_train['H'],data_test['H']),axis=0)\n",
    "inputs=data_total[len(data_total)-len(data_test)-5:].values\n",
    "inputs=inputs.reshape(-1,1)\n",
    "inputs=sc.transform(inputs)\n",
    "\n",
    "X_test=[]\n",
    "for i in range(5,92):\n",
    "    X_test.append(inputs[i-5:i,0])\n",
    "X_test=np.array(X_test)\n",
    "X_test=np.reshape(X_test,(X_test.shape[0],X_test.shape[1],1))\n",
    "\n",
    "pred=regress.predict(X_test)\n",
    "pred=sc.inverse_transform(pred)\n",
    "pred=pred[:,0]\n",
    "tests=data_test.iloc[:,1:2]\n"
   ]
  },
  {
   "cell_type": "markdown",
   "metadata": {},
   "source": [
    "<h3>Fit the test dataset using polyfit to find the the similarty between TIEDVD and Capacity</h3>"
   ]
  },
  {
   "cell_type": "code",
   "execution_count": 51,
   "metadata": {
    "scrolled": true
   },
   "outputs": [],
   "source": [
    "#Mapping the results#################\n",
    "fitting=df[ (df['cycle']>=82)]\n",
    "fitting=fitting['Capacity']\n",
    "abc=np.array(fitting)\n",
    "## abc == Capacity\n",
    "fitting=fitting.values\n",
    "#test=per\n",
    "cap=np.array(pred)\n",
    "li=[]\n",
    "z=np.polyfit(cap,abc,1)\n"
   ]
  },
  {
   "cell_type": "code",
   "execution_count": 53,
   "metadata": {},
   "outputs": [
    {
     "data": {
      "text/plain": [
       "array([4.95501749e-04, 6.88793349e-01])"
      ]
     },
     "execution_count": 53,
     "metadata": {},
     "output_type": "execute_result"
    }
   ],
   "source": [
    "z"
   ]
  },
  {
   "cell_type": "code",
   "execution_count": 55,
   "metadata": {},
   "outputs": [
    {
     "name": "stdout",
     "output_type": "stream",
     "text": [
      "87\n",
      "Test RMSE: 0.018\n",
      "R^2 = 0.9537620198193919\n"
     ]
    },
    {
     "name": "stderr",
     "output_type": "stream",
     "text": [
      "/home/khaled/anaconda3/lib/python3.7/site-packages/ipykernel_launcher.py:7: SettingWithCopyWarning: \n",
      "A value is trying to be set on a copy of a slice from a DataFrame.\n",
      "Try using .loc[row_indexer,col_indexer] = value instead\n",
      "\n",
      "See the caveats in the documentation: http://pandas.pydata.org/pandas-docs/stable/indexing.html#indexing-view-versus-copy\n",
      "  import sys\n"
     ]
    }
   ],
   "source": [
    "li=[]\n",
    "for i in range(len(abc)):\n",
    "    xx=(cap[i] *0.000495501749) + 0.688793349\n",
    "    li.append(xx)\n",
    "print(len(li))\n",
    "test=df[(df['cycle']>=82)]\n",
    "test['Perdict']=li\n",
    "#per=test\n",
    "#per['per']=li\n",
    "###############################\n",
    "\n",
    "rmse = np.sqrt(mean_squared_error(test['Capacity'],test['Perdict']))\n",
    "print('Test RMSE: %.3f' % rmse)\n",
    "\n",
    "print(\"R^2 = \" + str(metrics.r2_score(test['Capacity'],test['Perdict'])))"
   ]
  },
  {
   "cell_type": "code",
   "execution_count": 62,
   "metadata": {},
   "outputs": [
    {
     "data": {
      "text/plain": [
       "Text(0.5, 1.0, 'Discharge B0005')"
      ]
     },
     "execution_count": 62,
     "metadata": {},
     "output_type": "execute_result"
    },
    {
     "data": {
      "image/png": "[encoded data removed]",
      "text/plain": [
       "<Figure size 576x576 with 1 Axes>"
      ]
     },
     "metadata": {},
     "output_type": "display_data"
    }
   ],
   "source": [
    "\n",
    "%matplotlib inline\n",
    "import matplotlib.pyplot as plt\n",
    "import seaborn as sns\n",
    "plot_df = df.loc[(df['cycle']>=1),['cycle','Capacity']]\n",
    "plot_per=test.loc[test['cycle']>=82,['cycle','Perdict']]\n",
    "sns.set_style(\"darkgrid\")\n",
    "plt.figure(figsize=(8, 8))\n",
    "plt.plot(plot_df['cycle'], plot_df['Capacity'], label=\"Actual data\", color='blue')\n",
    "plt.plot(plot_per['cycle'],plot_per['Perdict'],label=\"Prediction data\", color='red')\n",
    "#Draw threshold\n",
    "plt.plot([0.,168], [1.4, 1.4])\n",
    "plt.ylabel('Capacity')\n",
    "# make x-axis ticks legible\n",
    "adf = plt.gca().get_xaxis().get_major_formatter()\n",
    "plt.xlabel('cycle')\n",
    "plt.title('Discharge B0005')"
   ]
  },
  {
   "cell_type": "code",
   "execution_count": 63,
   "metadata": {
    "scrolled": true
   },
   "outputs": [
    {
     "name": "stdout",
     "output_type": "stream",
     "text": [
      "The Actual fail at cycle number: 124\n",
      "The prediction fail at cycle number: 126\n"
     ]
    }
   ],
   "source": [
    "actual=0\n",
    "pred=0\n",
    "Afil=0\n",
    "Pfil=0\n",
    "a=test['Capacity'].values\n",
    "b=test['Perdict'].values\n",
    "j=0\n",
    "k=0\n",
    "for i in range(len(a)):\n",
    "    actual=a[i]\n",
    "    \n",
    "    if actual<1.4:\n",
    "        j=i\n",
    "        Afil=j\n",
    "        break\n",
    "for i in range(len(a)):\n",
    "    pred=b[i]\n",
    "    if pred< 1.4:\n",
    "        k=i\n",
    "        Pfil=k\n",
    "        break\n",
    "print(\"The Actual fail at cycle number: \"+ str(Afil+81))\n",
    "print(\"The prediction fail at cycle number: \"+ str(Pfil+81))\n",
    "    \n",
    "        "
   ]
  },
  {
   "cell_type": "code",
   "execution_count": 64,
   "metadata": {},
   "outputs": [
    {
     "name": "stdout",
     "output_type": "stream",
     "text": [
      "The error of RUL= 2 Cycle(s)\n"
     ]
    }
   ],
   "source": [
    "RULerror=Pfil-Afil\n",
    "print(\"The error of RUL= \"+ str(RULerror)+ \" Cycle(s)\")"
   ]
  },
  {
   "cell_type": "code",
   "execution_count": null,
   "metadata": {},
   "outputs": [],
   "source": []
  }
 ],
 "metadata": {
  "kernelspec": {
   "display_name": "Python 3.6 (tensorflow)",
   "language": "python",
   "name": "tensorflow"
  },
  "language_info": {
   "codemirror_mode": {
    "name": "ipython",
    "version": 3
   },
   "file_extension": ".py",
   "mimetype": "text/x-python",
   "name": "python",
   "nbconvert_exporter": "python",
   "pygments_lexer": "ipython3",
   "version": "3.7.3"
  }
 },
 "nbformat": 4,
 "nbformat_minor": 2
}
