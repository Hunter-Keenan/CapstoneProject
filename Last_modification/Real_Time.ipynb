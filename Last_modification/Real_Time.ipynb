{
 "cells": [
  {
   "cell_type": "code",
   "execution_count": 2,
   "metadata": {},
   "outputs": [
    {
     "name": "stderr",
     "output_type": "stream",
     "text": [
      "Using TensorFlow backend.\n"
     ]
    }
   ],
   "source": [
    "import sys \n",
    "import numpy as np # linear algebra\n",
    "from scipy.stats import randint\n",
    "import pandas as pd # data processing, CSV file I/O (e.g. pd.read_csv), data manipulation as in SQL\n",
    "import matplotlib.pyplot as plt # this is used for the plot the graph \n",
    "import seaborn as sns # used for plot interactive graph. \n",
    "from sklearn.model_selection import train_test_split # to split the data into two parts\n",
    "from sklearn.preprocessing import StandardScaler # for normalization\n",
    "from sklearn.preprocessing import MinMaxScaler\n",
    "from sklearn.pipeline import Pipeline # pipeline making\n",
    "from sklearn.model_selection import cross_val_score\n",
    "from sklearn.feature_selection import SelectFromModel\n",
    "from sklearn import metrics # for the check the error and accuracy of the model\n",
    "from sklearn.metrics import mean_squared_error,r2_score\n",
    "from keras.callbacks import History \n",
    "## for Deep-learing:\n",
    "import keras\n",
    "from keras import models\n",
    "from keras.layers import Dense\n",
    "from keras.models import Sequential\n",
    "from keras.utils import to_categorical\n",
    "from keras.optimizers import SGD \n",
    "import itertools\n",
    "from keras.layers import LSTM\n",
    "from keras.layers import Dropout\n",
    "from keras import regularizers\n",
    "from keras.regularizers import L1L2\n",
    "from sklearn.preprocessing import MinMaxScaler\n",
    "from keras.layers import GaussianNoise"
   ]
  },
  {
   "cell_type": "code",
   "execution_count": 3,
   "metadata": {},
   "outputs": [],
   "source": [
    "#sc=MinMaxScaler(feature_range=(0,1))\n",
    "def Scale_X(dataset,lag):#return the 3 D array for training and 1 D to actual value.\n",
    "    data=dataset.iloc[:,1:2].values\n",
    "    data=sc.fit_transform(data)\n",
    "    X_train=[]\n",
    "    y_train=[]\n",
    "    window_size=lag\n",
    "    train_num=len(data)\n",
    "    for i in range(window_size,train_num-1):\n",
    "        X_train.append(data[i-window_size:i,0])\n",
    "        y_train.append(data[i,0])\n",
    "    X_train,y_train=np.array(X_train),np.array(y_train)\n",
    "    X_train=np.reshape(X_train,(X_train.shape[0],X_train.shape[1],1))\n",
    "    return X_train, y_train"
   ]
  },
  {
   "cell_type": "code",
   "execution_count": 9,
   "metadata": {},
   "outputs": [],
   "source": [
    "def build_model(unit=200, GNoise=0.01,Drpout=0.3, l2=0.01):\n",
    "    model = models.Sequential()\n",
    "    '''\n",
    "    L2 regularizer used to prevent the overfitting in some cases\n",
    "    '''\n",
    "    if l2==0.0:\n",
    "        model.add(LSTM(units=unit, return_sequences=True, input_shape=(X_train.shape[1],1)))\n",
    "    else:\n",
    "        model.add(LSTM(units=unit, return_sequences=True, input_shape=(X_train.shape[1],1),\n",
    "                   kernel_regularizer=regularizers.l2(l2)))\n",
    "    '''\n",
    "    Adding noise to an underconstrained neural network model with\n",
    "    a small training dataset can have a regularizing effect and reduce overfitting.\n",
    "    On my experiments the best GaussianNoise (for starting point)to make prediction on cycles 90 to 110 is 0.01, \n",
    "    and 0.1 (for starting point)to make prediction on cycles 80,70,60. \n",
    "    '''        \n",
    "    model.add(GaussianNoise(GNoise))\n",
    "    model.add(Dropout(Drpout))\n",
    "              \n",
    "    model.add(LSTM(units=unit, return_sequences=True))\n",
    "    model.add(Dropout(Drpout))\n",
    "              \n",
    "    model.add(LSTM(units=unit, return_sequences=True))\n",
    "    model.add(Dropout(Drpout))\n",
    "    \n",
    "    model.add(LSTM(units=unit))\n",
    "    model.add(Dropout(Drpout))\n",
    "    \n",
    "    model.add(Dense(units=1))\n",
    "              \n",
    "    model.compile(optimizer='adam',loss='mean_squared_error',metrics=['mse'])\n",
    "    return model             "
   ]
  },
  {
   "cell_type": "code",
   "execution_count": 10,
   "metadata": {},
   "outputs": [],
   "source": [
    "df=pd.read_csv(\"B0005_discharge.csv\")\n",
    "#Dataset contains 168 cycles\n",
    "features=['cycle','Capacity']\n",
    "df=df[features]\n",
    "dataset=df\n",
    "RuL=124\n",
    "#Select the size of the training dataset\n",
    "size_train=111\n",
    "#Split the dataset into training dataset and test dataset\n",
    "data_train=dataset[(dataset['cycle']<size_train)]\n",
    "data_test=dataset[(dataset['cycle']>=size_train)]\n",
    "#Convert the data to victors\n",
    "data_set_train=data_train.iloc[:,1:2].values\n",
    "data_set_test=data_test.iloc[:,1:2].values\n",
    "#Scaling the data to work with LSTM\n",
    "sc=MinMaxScaler(feature_range=(0,1))\n",
    "data_set_train=sc.fit_transform(data_set_train)\n",
    "data_set_test=sc.transform(data_set_test)\n",
    "#Defined the Window size (Lag)\n",
    "window_size=10\n",
    "#Create new two Lists: one for the features(num of col = window size) and one for the target\n",
    "X_train=[]\n",
    "y_train=[]\n",
    "for i in range(window_size,size_train-1):\n",
    "    X_train.append(data_set_train[i-window_size:i,0])\n",
    "    y_train.append(data_set_train[i,0])\n",
    "X_train,y_train=np.array(X_train),np.array(y_train)\n",
    " \n",
    "X_train=np.reshape(X_train,(X_train.shape[0],X_train.shape[1],1))"
   ]
  },
  {
   "cell_type": "code",
   "execution_count": null,
   "metadata": {},
   "outputs": [],
   "source": [
    "#unit=200, GNoise=0.01,Drpout=0.3, l2=0.01\n",
    "L2=False # if the model used l2 or not \n",
    "regress=build_model()\n",
    "# batch_size=32\n",
    "hist=regress.fit(X_train,y_train,epochs=150,batch_size=len(data_train))"
   ]
  },
  {
   "cell_type": "code",
   "execution_count": 12,
   "metadata": {},
   "outputs": [
    {
     "name": "stdout",
     "output_type": "stream",
     "text": [
      "_________________________________________________________________\n",
      "Layer (type)                 Output Shape              Param #   \n",
      "=================================================================\n",
      "lstm_13 (LSTM)               (None, 10, 200)           161600    \n",
      "_________________________________________________________________\n",
      "gaussian_noise_4 (GaussianNo (None, 10, 200)           0         \n",
      "_________________________________________________________________\n",
      "dropout_13 (Dropout)         (None, 10, 200)           0         \n",
      "_________________________________________________________________\n",
      "lstm_14 (LSTM)               (None, 10, 200)           320800    \n",
      "_________________________________________________________________\n",
      "dropout_14 (Dropout)         (None, 10, 200)           0         \n",
      "_________________________________________________________________\n",
      "lstm_15 (LSTM)               (None, 10, 200)           320800    \n",
      "_________________________________________________________________\n",
      "dropout_15 (Dropout)         (None, 10, 200)           0         \n",
      "_________________________________________________________________\n",
      "lstm_16 (LSTM)               (None, 200)               320800    \n",
      "_________________________________________________________________\n",
      "dropout_16 (Dropout)         (None, 200)               0         \n",
      "_________________________________________________________________\n",
      "dense_4 (Dense)              (None, 1)                 201       \n",
      "=================================================================\n",
      "Total params: 1,124,201\n",
      "Trainable params: 1,124,201\n",
      "Non-trainable params: 0\n",
      "_________________________________________________________________\n"
     ]
    }
   ],
   "source": [
    "# The number of cycles need to be predicted \n",
    "num_cycle_pred=10\n",
    "\n",
    "regress.summary()\n"
   ]
  },
  {
   "cell_type": "markdown",
   "metadata": {},
   "source": [
    "<p> We trained our model to be able to predict the Capacity at cycle t+1 based on the previous number of cycle that equal to the window size.</p>\n",
    "<p> Therefore, to predict each capacity of each cycle, we will need the previous number of cycles (that eqaul to the window size) from our training dataset to predict the next cycle.</p>"
   ]
  },
  {
   "cell_type": "code",
   "execution_count": null,
   "metadata": {},
   "outputs": [],
   "source": [
    "####                      predictions                                     ###\n",
    "#In our case we only have the training dataset (on real time system we do not have information\n",
    "# about the next cycles)\n",
    "#On time series data the next prediction depend on last window in the training dataset (seq data)\n",
    "#in order to predict the next cycle we need the last  cycels that equal to the window size\n",
    "# from the training dataset to make prediction.\n",
    "#firstly, we predict the next 10 cycles,then we add these cycles to the training dataset\n",
    "### After that, we rebuild the model with the new prediction cycles t+1,t+2,t3,t4,t5 and so on. \n",
    "#and we do again to predict the next 10th cycles and so on.\n",
    "\n",
    "while(len(data_train)<168):\n",
    "    #Get the Training datatset from data_train dataset, declare a new varibale called data_total. \n",
    "    ''' Copy the training data to the new dataset to predict next T cycles'''\n",
    "    data_total=data_train['Capacity']\n",
    "    # Create new list for prediction\n",
    "    pred_list=[]\n",
    "    ''' Take the last cycles (which is equal the window-size) from data_tolat list and add it to the pred_list'''\n",
    "    pred_list=data_total[len(data_total)-window_size:]\n",
    "    #Make prediction to the next 10 cycles\n",
    "    for i in range(num_cycle_pred):\n",
    "        ''' predict next cycle\n",
    "                - convert the list of inputs to victor\n",
    "        '''\n",
    "        inputs=pred_list[len(pred_list)-window_size-i:].values\n",
    "        inputs=inputs.reshape(-1,1)\n",
    "        #scale the inputs\n",
    "        inputs=sc.transform(inputs)\n",
    "        X_test=[]\n",
    "        X_test.append(inputs[i:window_size+i,0])\n",
    "        X_test=np.array(X_test)\n",
    "        X_test=np.reshape(X_test,(X_test.shape[0],X_test.shape[1],1))\n",
    "        #Make prediction for one cycle\n",
    "        pred=regress.predict(X_test)\n",
    "        pred=sc.inverse_transform(pred)\n",
    "        pred=pred[:,0]\n",
    "        pred=float(pred)\n",
    "        print('L2 '+str(pred))\n",
    "        '''\n",
    "        We know that the Capacity will reduce over the time, but after preprocessing the data\n",
    "        we found that the capacity in some cycles increased over the time, in this case, we can \n",
    "        predict only the next 10 cycles. To solve this problem we used L2 and GaussianNoise \n",
    "        to reduce the overfitting.\n",
    "        '''\n",
    "        ####### End prediction one cycle##########\n",
    "        ## get the length of pred_list \n",
    "        y=pred_list.index[len(pred_list)-1]\n",
    "        #Convert pred to time Series\n",
    "        s1 = pd.Series(float(pred),index=[y+1])\n",
    "        # Add (Concat) a new prediction to pred_list to predict next cycle\n",
    "        pred_list=pd.concat([pred_list,s1])\n",
    "        \n",
    "    # convert the new prodiction to time series platform and add it to the training dataset\n",
    "        #Convert one cycle prediction to time Series platform\n",
    "        j=len(data_train)+1\n",
    "        s2=pd.Series([int(j),float(pred)],index=['cycle','Capacity'])\n",
    "        #concat the prediction cycle to the training dataset\n",
    "        data_train=data_train.append(s2,ignore_index=True)\n",
    "    # Scale the traing dataset, After cycles prediction\n",
    "    X_train,y_train=Scale_X(data_train,window_size)# Scaling the training dataset with new cycles.\n",
    "    # Rebuild the Model\n",
    "    regress=build_model()\n",
    "    hist=regress.fit(X_train,y_train,epochs=100,batch_size=len(data_train))"
   ]
  },
  {
   "cell_type": "code",
   "execution_count": 14,
   "metadata": {},
   "outputs": [
    {
     "data": {
      "text/plain": [
       "170"
      ]
     },
     "execution_count": 14,
     "metadata": {},
     "output_type": "execute_result"
    }
   ],
   "source": [
    "len(data_train)"
   ]
  },
  {
   "cell_type": "code",
   "execution_count": 20,
   "metadata": {},
   "outputs": [
    {
     "name": "stdout",
     "output_type": "stream",
     "text": [
      "Test RMSE: 0.031\n"
     ]
    }
   ],
   "source": [
    "check=data_train\n",
    "data_train=data_train[(data_train['cycle']>=1)&((data_train['cycle']<=168))]\n",
    "dataset=dataset[(dataset['cycle']>=1)&((dataset['cycle']<=168))]\n",
    "\n",
    "Actual=dataset[((dataset['cycle']>size_train))]\n",
    "prediction=data_train[((data_train['cycle']>size_train))]\n",
    "rmse = np.sqrt(mean_squared_error(Actual['Capacity'], prediction['Capacity']))\n",
    "print('Test RMSE: %.3f' % rmse)\n",
    "#r2=metrics.r2_score(Actual['Capacity'],prediction['Capacity'])\n",
    "#print(r2)"
   ]
  },
  {
   "cell_type": "code",
   "execution_count": 16,
   "metadata": {},
   "outputs": [
    {
     "name": "stdout",
     "output_type": "stream",
     "text": [
      "The Actual fail at cycle number: 124\n",
      "The prediction fail at cycle number: 123\n",
      "The error of RUL= -1 Cycle(s)\n"
     ]
    }
   ],
   "source": [
    "actual=0\n",
    "pred=0\n",
    "Afil=0\n",
    "Pfil=0\n",
    "a=Actual['Capacity'].values\n",
    "b=prediction['Capacity'].values\n",
    "j=0\n",
    "k=0\n",
    "for i in range(len(a)):\n",
    "    actual=a[i]\n",
    "    \n",
    "    if actual<=1.4:\n",
    "        j=i\n",
    "        Afil=j\n",
    "        break\n",
    "for i in range(len(a)):\n",
    "    pred=b[i]\n",
    "    if pred< 1.4:\n",
    "        k=i\n",
    "        Pfil=k\n",
    "        break\n",
    "print(\"The Actual fail at cycle number: \"+ str(Afil+size_train))\n",
    "print(\"The prediction fail at cycle number: \"+ str(Pfil+size_train))\n",
    "\n",
    "RULerror=Pfil-Afil\n",
    "print(\"The error of RUL= \"+ str(RULerror)+ \" Cycle(s)\")"
   ]
  },
  {
   "cell_type": "code",
   "execution_count": 18,
   "metadata": {},
   "outputs": [
    {
     "data": {
      "text/plain": [
       "Text(0.5, 1.0, 'Discharge B0005 (prediction)start in cycle 111, window-size= 10, RULe= -1')"
      ]
     },
     "execution_count": 18,
     "metadata": {},
     "output_type": "execute_result"
    },
    {
     "data": {
      "image/png": "[encoded data removed]",
      "text/plain": [
       "<Figure size 864x576 with 1 Axes>"
      ]
     },
     "metadata": {},
     "output_type": "display_data"
    }
   ],
   "source": [
    "%matplotlib inline\n",
    "import matplotlib.pyplot as plt\n",
    "import seaborn as sns\n",
    "plot_df = data_train.loc[(data_train['cycle']>=1),['cycle','Capacity']]\n",
    "plot_per=dataset.loc[(dataset['cycle']>=1),['cycle','Capacity']]\n",
    "sns.set_style(\"darkgrid\") \n",
    "plt.figure(figsize=(12, 8))\n",
    "plt.plot(plot_df['cycle'], plot_df['Capacity'], label=\"Prediction data\", color='blue',linewidth=1, alpha=0.9)\n",
    "plt.plot(plot_per['cycle'],plot_per['Capacity'],label=\"Actual data\", color='red',linewidth=1, alpha=0.9)\n",
    "#plt.plot(pred)\n",
    "#Draw threshold\n",
    "plt.plot([1.0,168], [1.4, 1.4],dashes=[6, 2])\n",
    "plt.ylabel('Capacity')\n",
    "# make x-axis ticks legible\n",
    "plt.legend(loc='upper right', ncol=2,)\n",
    "adf = plt.gca().get_xaxis().get_major_formatter()\n",
    "plt.xlabel('cycle')\n",
    "plt.title('Discharge B0005 (prediction)start in cycle '+ str(size_train)+', window-size= '+str(window_size)\n",
    "         + ', RULe= '+ str(RULerror))"
   ]
  }
 ],
 "metadata": {
  "kernelspec": {
   "display_name": "Python 3",
   "language": "python",
   "name": "python3"
  },
  "language_info": {
   "codemirror_mode": {
    "name": "ipython",
    "version": 3
   },
   "file_extension": ".py",
   "mimetype": "text/x-python",
   "name": "python",
   "nbconvert_exporter": "python",
   "pygments_lexer": "ipython3",
   "version": "3.7.3"
  }
 },
 "nbformat": 4,
 "nbformat_minor": 2
}
