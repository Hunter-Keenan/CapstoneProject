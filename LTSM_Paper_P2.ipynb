{
 "cells": [
  {
   "cell_type": "code",
   "execution_count": null,
   "metadata": {},
   "outputs": [],
   "source": [
    "\"\"\"\n",
    "Created on Mon Apr  9 09:02:14 2019\n",
    "\n",
    "@author: khaled\n",
    "\"\"\"\n",
    "import sys \n",
    "import numpy as np # linear algebra\n",
    "from scipy.stats import randint\n",
    "import pandas as pd # data processing, CSV file I/O (e.g. pd.read_csv), data manipulation as in SQL\n",
    "import matplotlib.pyplot as plt # this is used for the plot the graph \n",
    "import seaborn as sns # used for plot interactive graph. \n",
    "from sklearn.model_selection import train_test_split # to split the data into two parts\n",
    "#from sklearn.cross_validation import KFold # use for cross validation\n",
    "from sklearn.preprocessing import StandardScaler # for normalization\n",
    "from sklearn.preprocessing import MinMaxScaler\n",
    "from sklearn.pipeline import Pipeline # pipeline making\n",
    "from sklearn.model_selection import cross_val_score\n",
    "from sklearn.feature_selection import SelectFromModel\n",
    "from sklearn import metrics # for the check the error and accuracy of the model\n",
    "from sklearn.metrics import mean_squared_error,r2_score\n",
    "\n",
    "## for Deep-learing:\n",
    "import keras\n",
    "from keras.layers import Dense\n",
    "from keras.models import Sequential\n",
    "from keras.utils import to_categorical\n",
    "from keras.optimizers import SGD \n",
    "from keras.callbacks import EarlyStopping\n",
    "from keras.utils import np_utils\n",
    "import itertools\n",
    "from keras.layers import LSTM\n",
    "from keras.layers.convolutional import Conv1D\n",
    "from keras.layers.convolutional import MaxPooling1D\n",
    "from keras.layers import Dropout\n",
    "\n"
   ]
  },
  {
   "cell_type": "code",
   "execution_count": 35,
   "metadata": {},
   "outputs": [],
   "source": [
    "import numpy as np # linear algebra\n",
    "import pandas as pd\n",
    "df=pd.read_csv(\"Discharge6_H1.csv\")\n",
    "featurs=['Batt_name','cycle','amb_temp','voltage_battery','current_battery','temp_battery','current_load','voltage_load','time','Capacity','H']\n",
    "ftr=['cycle','Capacity']\n",
    "df1=df[ftr]\n",
    "test=df[(df['cycle']>=82)]\n",
    "f1=['cycle','H']\n",
    "df=df[featurs]"
   ]
  },
  {
   "cell_type": "code",
   "execution_count": 36,
   "metadata": {},
   "outputs": [
    {
     "name": "stdout",
     "output_type": "stream",
     "text": [
      "   cycle  Capacity\n",
      "0      1  2.035338\n",
      "1      2  2.025140\n",
      "2      3  2.013326\n",
      "3      4  2.013285\n",
      "4      5  2.000528\n"
     ]
    }
   ],
   "source": [
    "#test=test['Capacity']\n",
    "print(df1.head())"
   ]
  },
  {
   "cell_type": "code",
   "execution_count": null,
   "metadata": {},
   "outputs": [],
   "source": [
    "dataset=df[f1]\n",
    "data_train=dataset[(dataset['cycle']<82)]\n",
    "data_set_train=data_train.iloc[:,1:2].values\n",
    "data_test=dataset[(dataset['cycle']>=82)]\n",
    "data_set_test=data_test.iloc[:,1:2].values"
   ]
  },
  {
   "cell_type": "code",
   "execution_count": null,
   "metadata": {},
   "outputs": [],
   "source": [
    "from sklearn.preprocessing import MinMaxScaler\n",
    "sc=MinMaxScaler(feature_range=(0,1))\n",
    "data_set_train=sc.fit_transform(data_set_train)\n",
    "data_set_test=sc.transform(data_set_test)"
   ]
  },
  {
   "cell_type": "code",
   "execution_count": null,
   "metadata": {},
   "outputs": [],
   "source": [
    "X_train=[]\n",
    "y_train=[]\n",
    "for i in range(10,81):\n",
    "    X_train.append(data_set_train[i-10:i,0])\n",
    "    y_train.append(data_set_train[i,0])\n",
    "X_train,y_train=np.array(X_train),np.array(y_train)\n",
    " \n",
    "X_train=np.reshape(X_train,(X_train.shape[0],X_train.shape[1],1))"
   ]
  },
  {
   "cell_type": "code",
   "execution_count": null,
   "metadata": {},
   "outputs": [],
   "source": [
    "#Start LSTM \n",
    "regress=Sequential()\n",
    "regress.add(LSTM(units=200, return_sequences=True, input_shape=(X_train.shape[1],1)))\n",
    "regress.add(Dropout(0.3))\n",
    "\n",
    "regress.add(LSTM(units=200, return_sequences=True))\n",
    "regress.add(Dropout(0.3))\n",
    "\n",
    "\n",
    "regress.add(LSTM(units=200, return_sequences=True))\n",
    "regress.add(Dropout(0.3))\n",
    "\n",
    "regress.add(LSTM(units=200))\n",
    "regress.add(Dropout(0.3))\n",
    "\n",
    "\n",
    "regress.add(Dense(units=1))\n",
    "\n",
    "regress.compile(optimizer='adam',loss='mean_squared_error')\n",
    "\n",
    "regress.fit(X_train,y_train,epochs=200,batch_size=50)\n"
   ]
  },
  {
   "cell_type": "code",
   "execution_count": null,
   "metadata": {},
   "outputs": [],
   "source": [
    "##### predictions\n",
    "data_total=pd.concat((data_train['H'],data_test['H']),axis=0)\n",
    "inputs=data_total[len(data_total)-len(data_test)-10:].values\n",
    "inputs=inputs.reshape(-1,1)\n",
    "inputs=sc.transform(inputs)\n",
    "\n",
    "X_test=[]\n",
    "for i in range(10,97):\n",
    "    X_test.append(inputs[i-10:i,0])\n",
    "X_test=np.array(X_test)\n",
    "X_test=np.reshape(X_test,(X_test.shape[0],X_test.shape[1],1))\n",
    "\n",
    "pred=regress.predict(X_test)\n",
    "pred=sc.inverse_transform(pred)\n",
    "pred=pred[:,0]\n",
    "tests=data_test.iloc[:,1:2]"
   ]
  },
  {
   "cell_type": "code",
   "execution_count": null,
   "metadata": {},
   "outputs": [],
   "source": [
    "fitting=df[ (df['cycle']>=82)]\n",
    "fitting=fitting['Capacity']\n",
    "abc=np.array(fitting)\n",
    "## abc == Capacity\n",
    "fitting=fitting.values\n",
    "#test=per\n",
    "cap=np.array(prediction)\n",
    "li=[]\n",
    "z=np.polyfit(cap,abc,1)\n",
    "for i in range(len(abc)):\n",
    "    xx=(cap[i] *0.000635589) + 0.694734\n",
    "    li.append(xx)"
   ]
  },
  {
   "cell_type": "code",
   "execution_count": 29,
   "metadata": {},
   "outputs": [],
   "source": [
    "prediction=[1.5161796357147215,\n",
    " 1.5092897175058593,\n",
    " 1.5030718539744874,\n",
    " 1.4964726525604246,\n",
    " 1.4897739076054686,\n",
    " 1.4826992558261718,\n",
    " 1.475323025135376,\n",
    " 1.463604896053711,\n",
    " 1.454699900024048,\n",
    " 1.449340143711914,\n",
    " 1.4483875360773926,\n",
    " 1.4511088842432862,\n",
    " 1.4562839845715332,\n",
    " 1.4635340595355224,\n",
    " 1.470958005953247,\n",
    " 1.4767565917800294,\n",
    " 1.4793861550598144,\n",
    " 1.4788928597885742,\n",
    " 1.4760028384676513,\n",
    " 1.4629065395364989,\n",
    " 1.4477429470378418,\n",
    " 1.4354661172250975,\n",
    " 1.4255836858656006,\n",
    " 1.4178587812287597,\n",
    " 1.4124939042044677,\n",
    " 1.4086012319256591,\n",
    " 1.4054958303479004,\n",
    " 1.4022104279791259,\n",
    " 1.3990059483797608,\n",
    " 1.3952585181185302,\n",
    " 1.3913529664727782,\n",
    " 1.3868060068359376,\n",
    " 1.3808780842338866,\n",
    " 1.3719426742774656,\n",
    " 1.3649622901538085,\n",
    " 1.3591760405881348,\n",
    " 1.3542739673217774,\n",
    " 1.3490145304160155,\n",
    " 1.343948361600952,\n",
    " 1.339922085286743,\n",
    " 1.3381482628364867,\n",
    " 1.3380114001660766,\n",
    " 1.3387615457039794,\n",
    " 1.3387056833895263,\n",
    " 1.3386005148239135,\n",
    " 1.3380395252896728,\n",
    " 1.336414397458374,\n",
    " 1.3328917742195434,\n",
    " 1.328517056718933,\n",
    " 1.3202570376615599,\n",
    " 1.311083398209961,\n",
    " 1.3042140792295531,\n",
    " 1.2987817019086303,\n",
    " 1.294911335762329,\n",
    " 1.2922231170523681,\n",
    " 1.290381716718933,\n",
    " 1.2889230896193236,\n",
    " 1.2879341326871336,\n",
    " 1.2868017570212402,\n",
    " 1.2849492618114624,\n",
    " 1.2825967213007812,\n",
    " 1.279551526884155,\n",
    " 1.2747052383457032,\n",
    " 1.2676947894347532,\n",
    " 1.2619207209570922,\n",
    " 1.25710476875885,\n",
    " 1.252263096619995,\n",
    " 1.2470929230375365,\n",
    " 1.2418233998805541,\n",
    " 1.2375262301345216,\n",
    " 1.235324789425781,\n",
    " 1.2344748287940672,\n",
    " 1.233779886084961,\n",
    " 1.2335035615947876,\n",
    " 1.2331012753441772,\n",
    " 1.2326066611016235,\n",
    " 1.2313499917860717,\n",
    " 1.228444724708496,\n",
    " 1.2249028212125244,\n",
    " 1.2201014552852782,\n",
    " 1.2119346952584227,\n",
    " 1.205487641064697,\n",
    " 1.2001217554152832,\n",
    " 1.1951988889541014,\n",
    " 1.190265509515686,\n",
    " 1.185409212312561,\n",
    " 1.1813718799152833]"
   ]
  },
  {
   "cell_type": "code",
   "execution_count": 30,
   "metadata": {},
   "outputs": [],
   "source": [
    "per=test\n",
    "#per['per']=pred\n",
    "\n",
    "#per['per']=li\n",
    "per['per']=prediction"
   ]
  },
  {
   "cell_type": "code",
   "execution_count": null,
   "metadata": {},
   "outputs": [],
   "source": [
    "rmse = np.sqrt(np.mean_squared_error(per['Capacity'],per['per']))\n",
    "print('Test RMSE: %.3f' % rmse)\n",
    "\n",
    "metrics.r2_score(per['Capacity'],per['per'])"
   ]
  },
  {
   "cell_type": "markdown",
   "metadata": {},
   "source": [
    "Test RMSE: 0.031\n",
    "    \n",
    "R^2 = 0.9051368904190076"
   ]
  },
  {
   "cell_type": "code",
   "execution_count": 31,
   "metadata": {},
   "outputs": [
    {
     "name": "stdout",
     "output_type": "stream",
     "text": [
      "    Unnamed: 0 Batt_name  cycle             dateTime  amb_temp  \\\n",
      "81          81  B0006_11     82  2008-05-06 16:23:36        24   \n",
      "82          82  B0006_11     83  2008-05-06 21:21:49        24   \n",
      "83          83  B0006_11     84  2008-05-07 02:17:25        24   \n",
      "84          84  B0006_11     85  2008-05-07 07:04:02        24   \n",
      "85          85  B0006_11     86  2008-05-07 12:01:49        24   \n",
      "\n",
      "    voltage_battery  current_battery  temp_battery  voltage_load  \\\n",
      "81         3.514081        -0.003031     34.734409           0.0   \n",
      "82         3.517917        -0.003197     34.854516           0.0   \n",
      "83         3.519102        -0.002833     34.714548           0.0   \n",
      "84         3.521494        -0.002305     34.408442           0.0   \n",
      "85         3.531200        -0.003266     34.229918           0.0   \n",
      "\n",
      "    current_load      time  Capacity         H       per  \n",
      "81        0.0006  3094.328  1.478460  1311.375  1.516180  \n",
      "82        0.0006  3086.531  1.473215  1311.907  1.509290  \n",
      "83        0.0006  3085.625  1.467516  1283.250  1.503072  \n",
      "84        0.0006  3067.203  1.451629  1255.062  1.496473  \n",
      "85        0.0006  3058.157  1.451924  1236.656  1.489774  \n"
     ]
    }
   ],
   "source": [
    "print(per.head())"
   ]
  },
  {
   "cell_type": "code",
   "execution_count": 39,
   "metadata": {},
   "outputs": [
    {
     "data": {
      "text/plain": [
       "Text(0.5, 1.0, 'Discharge B0005')"
      ]
     },
     "execution_count": 39,
     "metadata": {},
     "output_type": "execute_result"
    },
    {
     "data": {
      "image/png": "[encoded data removed]",
      "text/plain": [
       "<Figure size 1080x648 with 1 Axes>"
      ]
     },
     "metadata": {},
     "output_type": "display_data"
    }
   ],
   "source": [
    "\n",
    "%matplotlib inline\n",
    "import matplotlib.pyplot as plt\n",
    "import seaborn as sns\n",
    "plot_df = df1.loc[(df1['cycle']>=1),['cycle','Capacity']]\n",
    "plot_per=per.loc[per['cycle']>=82,['cycle','per']]\n",
    "sns.set_style(\"darkgrid\")\n",
    "plt.figure(figsize=(15, 9))\n",
    "plt.plot(plot_df['cycle'], plot_df['Capacity'], label=\"Actual data\", color='blue')\n",
    "plt.plot(plot_per['cycle'],plot_per['per'],label=\"Prediction data\", color='red')\n",
    "#Draw threshold\n",
    "plt.plot([0.,168], [1.38, 1.38])\n",
    "plt.ylabel('Capacity')\n",
    "# make x-axis ticks legible\n",
    "adf = plt.gca().get_xaxis().get_major_formatter()\n",
    "plt.xlabel('cycle')\n",
    "plt.title('Discharge B0005')"
   ]
  },
  {
   "cell_type": "markdown",
   "metadata": {},
   "source": [
    "RULerror= 2 cycle(s)"
   ]
  },
  {
   "cell_type": "code",
   "execution_count": null,
   "metadata": {},
   "outputs": [],
   "source": []
  }
 ],
 "metadata": {
  "kernelspec": {
   "display_name": "Python 3.6 (tensorflow)",
   "language": "python",
   "name": "tensorflow"
  },
  "language_info": {
   "codemirror_mode": {
    "name": "ipython",
    "version": 3
   },
   "file_extension": ".py",
   "mimetype": "text/x-python",
   "name": "python",
   "nbconvert_exporter": "python",
   "pygments_lexer": "ipython3",
   "version": "3.7.1"
  }
 },
 "nbformat": 4,
 "nbformat_minor": 2
}
